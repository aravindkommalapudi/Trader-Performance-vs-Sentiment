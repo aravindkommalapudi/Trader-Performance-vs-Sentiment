{
 "cells": [
  {
   "cell_type": "code",
   "execution_count": 1,
   "id": "d876e332-bea6-40b3-b146-a9e637ec9dd5",
   "metadata": {},
   "outputs": [],
   "source": [
    "import pandas as pd\n",
    "import numpy as np\n",
    "import matplotlib.pyplot as plt\n",
    "import seaborn as sns\n",
    "import warnings\n",
    "warnings.filterwarnings(\"ignore\")"
   ]
  },
  {
   "cell_type": "code",
   "execution_count": 2,
   "id": "b382e58c-6fe7-45fd-9775-47986d82a3c9",
   "metadata": {},
   "outputs": [],
   "source": [
    "trades = pd.read_csv(\"historical_data.csv\")\n",
    "sentiment = pd.read_csv(\"fear_greed_index.csv\")"
   ]
  },
  {
   "cell_type": "markdown",
   "id": "351fa3fb-706b-4431-b8fe-76c8da106a28",
   "metadata": {},
   "source": [
    "### Historical_data"
   ]
  },
  {
   "cell_type": "code",
   "execution_count": 5,
   "id": "f3726659-a3fd-4261-993c-aeb26a1124b2",
   "metadata": {},
   "outputs": [
    {
     "data": {
      "text/html": [
       "<div>\n",
       "<style scoped>\n",
       "    .dataframe tbody tr th:only-of-type {\n",
       "        vertical-align: middle;\n",
       "    }\n",
       "\n",
       "    .dataframe tbody tr th {\n",
       "        vertical-align: top;\n",
       "    }\n",
       "\n",
       "    .dataframe thead th {\n",
       "        text-align: right;\n",
       "    }\n",
       "</style>\n",
       "<table border=\"1\" class=\"dataframe\">\n",
       "  <thead>\n",
       "    <tr style=\"text-align: right;\">\n",
       "      <th></th>\n",
       "      <th>Account</th>\n",
       "      <th>Coin</th>\n",
       "      <th>Execution Price</th>\n",
       "      <th>Size Tokens</th>\n",
       "      <th>Size USD</th>\n",
       "      <th>Side</th>\n",
       "      <th>Timestamp IST</th>\n",
       "      <th>Start Position</th>\n",
       "      <th>Direction</th>\n",
       "      <th>Closed PnL</th>\n",
       "      <th>Transaction Hash</th>\n",
       "      <th>Order ID</th>\n",
       "      <th>Crossed</th>\n",
       "      <th>Fee</th>\n",
       "      <th>Trade ID</th>\n",
       "      <th>Timestamp</th>\n",
       "    </tr>\n",
       "  </thead>\n",
       "  <tbody>\n",
       "    <tr>\n",
       "      <th>96257</th>\n",
       "      <td>0xa0feb3725a9335f49874d7cd8eaad6be45b27416</td>\n",
       "      <td>HYPE</td>\n",
       "      <td>24.766000</td>\n",
       "      <td>300.22</td>\n",
       "      <td>7435.25</td>\n",
       "      <td>SELL</td>\n",
       "      <td>20-02-2025 15:47</td>\n",
       "      <td>595.120</td>\n",
       "      <td>Close Long</td>\n",
       "      <td>83.341072</td>\n",
       "      <td>0xf73ab0052910fe516826041e1db8ff02027b00693062...</td>\n",
       "      <td>73603189843</td>\n",
       "      <td>False</td>\n",
       "      <td>0.371762</td>\n",
       "      <td>1.030000e+15</td>\n",
       "      <td>1.740000e+12</td>\n",
       "    </tr>\n",
       "    <tr>\n",
       "      <th>55646</th>\n",
       "      <td>0x23e7a7f8d14b550961925fbfdaa92f5d195ba5bd</td>\n",
       "      <td>ETH</td>\n",
       "      <td>2609.400000</td>\n",
       "      <td>1.00</td>\n",
       "      <td>2609.40</td>\n",
       "      <td>SELL</td>\n",
       "      <td>12-02-2025 06:20</td>\n",
       "      <td>82.000</td>\n",
       "      <td>Close Long</td>\n",
       "      <td>6.100000</td>\n",
       "      <td>0x69cd9ec22c939c7e20ce041d983f2501a300bffdda06...</td>\n",
       "      <td>71613166536</td>\n",
       "      <td>True</td>\n",
       "      <td>0.913290</td>\n",
       "      <td>7.380000e+14</td>\n",
       "      <td>1.740000e+12</td>\n",
       "    </tr>\n",
       "    <tr>\n",
       "      <th>44838</th>\n",
       "      <td>0xb1231a4a2dd02f2276fa3c5e2a2f3436e6bfed23</td>\n",
       "      <td>@8</td>\n",
       "      <td>0.019546</td>\n",
       "      <td>5334.00</td>\n",
       "      <td>104.26</td>\n",
       "      <td>BUY</td>\n",
       "      <td>04-09-2024 07:04</td>\n",
       "      <td>931989.665</td>\n",
       "      <td>Buy</td>\n",
       "      <td>0.000000</td>\n",
       "      <td>0xc859e6ff96d18bde14480410f864f801a300afcf9b89...</td>\n",
       "      <td>36706674250</td>\n",
       "      <td>True</td>\n",
       "      <td>1.866870</td>\n",
       "      <td>2.370000e+14</td>\n",
       "      <td>1.730000e+12</td>\n",
       "    </tr>\n",
       "    <tr>\n",
       "      <th>150425</th>\n",
       "      <td>0xb899e522b5715391ae1d4f137653e7906c5e2115</td>\n",
       "      <td>SOL</td>\n",
       "      <td>128.030000</td>\n",
       "      <td>234.31</td>\n",
       "      <td>29998.71</td>\n",
       "      <td>SELL</td>\n",
       "      <td>12-03-2025 00:24</td>\n",
       "      <td>-1126.230</td>\n",
       "      <td>Open Short</td>\n",
       "      <td>0.000000</td>\n",
       "      <td>0x40e737e7b1ec80b86d2b041f5bba9f02010600da76c1...</td>\n",
       "      <td>79142952698</td>\n",
       "      <td>True</td>\n",
       "      <td>7.499677</td>\n",
       "      <td>6.070000e+14</td>\n",
       "      <td>1.740000e+12</td>\n",
       "    </tr>\n",
       "  </tbody>\n",
       "</table>\n",
       "</div>"
      ],
      "text/plain": [
       "                                           Account  Coin  Execution Price  \\\n",
       "96257   0xa0feb3725a9335f49874d7cd8eaad6be45b27416  HYPE        24.766000   \n",
       "55646   0x23e7a7f8d14b550961925fbfdaa92f5d195ba5bd   ETH      2609.400000   \n",
       "44838   0xb1231a4a2dd02f2276fa3c5e2a2f3436e6bfed23    @8         0.019546   \n",
       "150425  0xb899e522b5715391ae1d4f137653e7906c5e2115   SOL       128.030000   \n",
       "\n",
       "        Size Tokens  Size USD  Side     Timestamp IST  Start Position  \\\n",
       "96257        300.22   7435.25  SELL  20-02-2025 15:47         595.120   \n",
       "55646          1.00   2609.40  SELL  12-02-2025 06:20          82.000   \n",
       "44838       5334.00    104.26   BUY  04-09-2024 07:04      931989.665   \n",
       "150425       234.31  29998.71  SELL  12-03-2025 00:24       -1126.230   \n",
       "\n",
       "         Direction  Closed PnL  \\\n",
       "96257   Close Long   83.341072   \n",
       "55646   Close Long    6.100000   \n",
       "44838          Buy    0.000000   \n",
       "150425  Open Short    0.000000   \n",
       "\n",
       "                                         Transaction Hash     Order ID  \\\n",
       "96257   0xf73ab0052910fe516826041e1db8ff02027b00693062...  73603189843   \n",
       "55646   0x69cd9ec22c939c7e20ce041d983f2501a300bffdda06...  71613166536   \n",
       "44838   0xc859e6ff96d18bde14480410f864f801a300afcf9b89...  36706674250   \n",
       "150425  0x40e737e7b1ec80b86d2b041f5bba9f02010600da76c1...  79142952698   \n",
       "\n",
       "        Crossed       Fee      Trade ID     Timestamp  \n",
       "96257     False  0.371762  1.030000e+15  1.740000e+12  \n",
       "55646      True  0.913290  7.380000e+14  1.740000e+12  \n",
       "44838      True  1.866870  2.370000e+14  1.730000e+12  \n",
       "150425     True  7.499677  6.070000e+14  1.740000e+12  "
      ]
     },
     "execution_count": 5,
     "metadata": {},
     "output_type": "execute_result"
    }
   ],
   "source": [
    "trades.sample(4)"
   ]
  },
  {
   "cell_type": "code",
   "execution_count": 17,
   "id": "35f65fa0-eef1-4bda-be5d-80718eaf6bca",
   "metadata": {},
   "outputs": [
    {
     "data": {
      "text/html": [
       "<div>\n",
       "<style scoped>\n",
       "    .dataframe tbody tr th:only-of-type {\n",
       "        vertical-align: middle;\n",
       "    }\n",
       "\n",
       "    .dataframe tbody tr th {\n",
       "        vertical-align: top;\n",
       "    }\n",
       "\n",
       "    .dataframe thead th {\n",
       "        text-align: right;\n",
       "    }\n",
       "</style>\n",
       "<table border=\"1\" class=\"dataframe\">\n",
       "  <thead>\n",
       "    <tr style=\"text-align: right;\">\n",
       "      <th></th>\n",
       "      <th>Account</th>\n",
       "      <th>Coin</th>\n",
       "      <th>Execution Price</th>\n",
       "      <th>Size Tokens</th>\n",
       "      <th>Size USD</th>\n",
       "      <th>Side</th>\n",
       "      <th>Timestamp IST</th>\n",
       "      <th>Start Position</th>\n",
       "      <th>Direction</th>\n",
       "      <th>Closed PnL</th>\n",
       "      <th>Transaction Hash</th>\n",
       "      <th>Order ID</th>\n",
       "      <th>Crossed</th>\n",
       "      <th>Fee</th>\n",
       "      <th>Trade ID</th>\n",
       "      <th>Timestamp</th>\n",
       "    </tr>\n",
       "  </thead>\n",
       "  <tbody>\n",
       "    <tr>\n",
       "      <th>0</th>\n",
       "      <td>0xae5eacaf9c6b9111fd53034a602c192a04e082ed</td>\n",
       "      <td>@107</td>\n",
       "      <td>7.9769</td>\n",
       "      <td>986.87</td>\n",
       "      <td>7872.16</td>\n",
       "      <td>BUY</td>\n",
       "      <td>02-12-2024 22:50</td>\n",
       "      <td>0.000000</td>\n",
       "      <td>Buy</td>\n",
       "      <td>0.0</td>\n",
       "      <td>0xec09451986a1874e3a980418412fcd0201f500c95bac...</td>\n",
       "      <td>52017706630</td>\n",
       "      <td>True</td>\n",
       "      <td>0.345404</td>\n",
       "      <td>8.950000e+14</td>\n",
       "      <td>1.730000e+12</td>\n",
       "    </tr>\n",
       "    <tr>\n",
       "      <th>1</th>\n",
       "      <td>0xae5eacaf9c6b9111fd53034a602c192a04e082ed</td>\n",
       "      <td>@107</td>\n",
       "      <td>7.9800</td>\n",
       "      <td>16.00</td>\n",
       "      <td>127.68</td>\n",
       "      <td>BUY</td>\n",
       "      <td>02-12-2024 22:50</td>\n",
       "      <td>986.524596</td>\n",
       "      <td>Buy</td>\n",
       "      <td>0.0</td>\n",
       "      <td>0xec09451986a1874e3a980418412fcd0201f500c95bac...</td>\n",
       "      <td>52017706630</td>\n",
       "      <td>True</td>\n",
       "      <td>0.005600</td>\n",
       "      <td>4.430000e+14</td>\n",
       "      <td>1.730000e+12</td>\n",
       "    </tr>\n",
       "    <tr>\n",
       "      <th>2</th>\n",
       "      <td>0xae5eacaf9c6b9111fd53034a602c192a04e082ed</td>\n",
       "      <td>@107</td>\n",
       "      <td>7.9855</td>\n",
       "      <td>144.09</td>\n",
       "      <td>1150.63</td>\n",
       "      <td>BUY</td>\n",
       "      <td>02-12-2024 22:50</td>\n",
       "      <td>1002.518996</td>\n",
       "      <td>Buy</td>\n",
       "      <td>0.0</td>\n",
       "      <td>0xec09451986a1874e3a980418412fcd0201f500c95bac...</td>\n",
       "      <td>52017706630</td>\n",
       "      <td>True</td>\n",
       "      <td>0.050431</td>\n",
       "      <td>6.600000e+14</td>\n",
       "      <td>1.730000e+12</td>\n",
       "    </tr>\n",
       "    <tr>\n",
       "      <th>3</th>\n",
       "      <td>0xae5eacaf9c6b9111fd53034a602c192a04e082ed</td>\n",
       "      <td>@107</td>\n",
       "      <td>7.9874</td>\n",
       "      <td>142.98</td>\n",
       "      <td>1142.04</td>\n",
       "      <td>BUY</td>\n",
       "      <td>02-12-2024 22:50</td>\n",
       "      <td>1146.558564</td>\n",
       "      <td>Buy</td>\n",
       "      <td>0.0</td>\n",
       "      <td>0xec09451986a1874e3a980418412fcd0201f500c95bac...</td>\n",
       "      <td>52017706630</td>\n",
       "      <td>True</td>\n",
       "      <td>0.050043</td>\n",
       "      <td>1.080000e+15</td>\n",
       "      <td>1.730000e+12</td>\n",
       "    </tr>\n",
       "    <tr>\n",
       "      <th>4</th>\n",
       "      <td>0xae5eacaf9c6b9111fd53034a602c192a04e082ed</td>\n",
       "      <td>@107</td>\n",
       "      <td>7.9894</td>\n",
       "      <td>8.73</td>\n",
       "      <td>69.75</td>\n",
       "      <td>BUY</td>\n",
       "      <td>02-12-2024 22:50</td>\n",
       "      <td>1289.488521</td>\n",
       "      <td>Buy</td>\n",
       "      <td>0.0</td>\n",
       "      <td>0xec09451986a1874e3a980418412fcd0201f500c95bac...</td>\n",
       "      <td>52017706630</td>\n",
       "      <td>True</td>\n",
       "      <td>0.003055</td>\n",
       "      <td>1.050000e+15</td>\n",
       "      <td>1.730000e+12</td>\n",
       "    </tr>\n",
       "  </tbody>\n",
       "</table>\n",
       "</div>"
      ],
      "text/plain": [
       "                                      Account  Coin  Execution Price  \\\n",
       "0  0xae5eacaf9c6b9111fd53034a602c192a04e082ed  @107           7.9769   \n",
       "1  0xae5eacaf9c6b9111fd53034a602c192a04e082ed  @107           7.9800   \n",
       "2  0xae5eacaf9c6b9111fd53034a602c192a04e082ed  @107           7.9855   \n",
       "3  0xae5eacaf9c6b9111fd53034a602c192a04e082ed  @107           7.9874   \n",
       "4  0xae5eacaf9c6b9111fd53034a602c192a04e082ed  @107           7.9894   \n",
       "\n",
       "   Size Tokens  Size USD Side     Timestamp IST  Start Position Direction  \\\n",
       "0       986.87   7872.16  BUY  02-12-2024 22:50        0.000000       Buy   \n",
       "1        16.00    127.68  BUY  02-12-2024 22:50      986.524596       Buy   \n",
       "2       144.09   1150.63  BUY  02-12-2024 22:50     1002.518996       Buy   \n",
       "3       142.98   1142.04  BUY  02-12-2024 22:50     1146.558564       Buy   \n",
       "4         8.73     69.75  BUY  02-12-2024 22:50     1289.488521       Buy   \n",
       "\n",
       "   Closed PnL                                   Transaction Hash     Order ID  \\\n",
       "0         0.0  0xec09451986a1874e3a980418412fcd0201f500c95bac...  52017706630   \n",
       "1         0.0  0xec09451986a1874e3a980418412fcd0201f500c95bac...  52017706630   \n",
       "2         0.0  0xec09451986a1874e3a980418412fcd0201f500c95bac...  52017706630   \n",
       "3         0.0  0xec09451986a1874e3a980418412fcd0201f500c95bac...  52017706630   \n",
       "4         0.0  0xec09451986a1874e3a980418412fcd0201f500c95bac...  52017706630   \n",
       "\n",
       "   Crossed       Fee      Trade ID     Timestamp  \n",
       "0     True  0.345404  8.950000e+14  1.730000e+12  \n",
       "1     True  0.005600  4.430000e+14  1.730000e+12  \n",
       "2     True  0.050431  6.600000e+14  1.730000e+12  \n",
       "3     True  0.050043  1.080000e+15  1.730000e+12  \n",
       "4     True  0.003055  1.050000e+15  1.730000e+12  "
      ]
     },
     "execution_count": 17,
     "metadata": {},
     "output_type": "execute_result"
    }
   ],
   "source": [
    "trades.head()"
   ]
  },
  {
   "cell_type": "code",
   "execution_count": 15,
   "id": "a6e4ee2d-1f61-4cb9-b594-eb99fe4b327a",
   "metadata": {},
   "outputs": [
    {
     "data": {
      "text/html": [
       "<div>\n",
       "<style scoped>\n",
       "    .dataframe tbody tr th:only-of-type {\n",
       "        vertical-align: middle;\n",
       "    }\n",
       "\n",
       "    .dataframe tbody tr th {\n",
       "        vertical-align: top;\n",
       "    }\n",
       "\n",
       "    .dataframe thead th {\n",
       "        text-align: right;\n",
       "    }\n",
       "</style>\n",
       "<table border=\"1\" class=\"dataframe\">\n",
       "  <thead>\n",
       "    <tr style=\"text-align: right;\">\n",
       "      <th></th>\n",
       "      <th>Account</th>\n",
       "      <th>Coin</th>\n",
       "      <th>Execution Price</th>\n",
       "      <th>Size Tokens</th>\n",
       "      <th>Size USD</th>\n",
       "      <th>Side</th>\n",
       "      <th>Timestamp IST</th>\n",
       "      <th>Start Position</th>\n",
       "      <th>Direction</th>\n",
       "      <th>Closed PnL</th>\n",
       "      <th>Transaction Hash</th>\n",
       "      <th>Order ID</th>\n",
       "      <th>Crossed</th>\n",
       "      <th>Fee</th>\n",
       "      <th>Trade ID</th>\n",
       "      <th>Timestamp</th>\n",
       "    </tr>\n",
       "  </thead>\n",
       "  <tbody>\n",
       "    <tr>\n",
       "      <th>211219</th>\n",
       "      <td>0x72743ae2822edd658c0c50608fd7c5c501b2afbd</td>\n",
       "      <td>FARTCOIN</td>\n",
       "      <td>1.101</td>\n",
       "      <td>382.2</td>\n",
       "      <td>420.80</td>\n",
       "      <td>SELL</td>\n",
       "      <td>25-04-2025 15:35</td>\n",
       "      <td>7546.6</td>\n",
       "      <td>Close Long</td>\n",
       "      <td>-20.2566</td>\n",
       "      <td>0xcd339c08dc7b615a993c0422374d8e02027400092bc2...</td>\n",
       "      <td>88803313862</td>\n",
       "      <td>False</td>\n",
       "      <td>0.042080</td>\n",
       "      <td>1.990000e+14</td>\n",
       "      <td>1.750000e+12</td>\n",
       "    </tr>\n",
       "    <tr>\n",
       "      <th>211220</th>\n",
       "      <td>0x72743ae2822edd658c0c50608fd7c5c501b2afbd</td>\n",
       "      <td>FARTCOIN</td>\n",
       "      <td>1.101</td>\n",
       "      <td>2124.1</td>\n",
       "      <td>2338.63</td>\n",
       "      <td>SELL</td>\n",
       "      <td>25-04-2025 15:35</td>\n",
       "      <td>7164.4</td>\n",
       "      <td>Close Long</td>\n",
       "      <td>-112.5773</td>\n",
       "      <td>0x29e8ede2a3a37aa0eac00422374d8e02029b00ac9f3c...</td>\n",
       "      <td>88803313862</td>\n",
       "      <td>False</td>\n",
       "      <td>0.233863</td>\n",
       "      <td>9.260000e+14</td>\n",
       "      <td>1.750000e+12</td>\n",
       "    </tr>\n",
       "    <tr>\n",
       "      <th>211221</th>\n",
       "      <td>0x72743ae2822edd658c0c50608fd7c5c501b2afbd</td>\n",
       "      <td>FARTCOIN</td>\n",
       "      <td>1.101</td>\n",
       "      <td>423.4</td>\n",
       "      <td>466.16</td>\n",
       "      <td>SELL</td>\n",
       "      <td>25-04-2025 15:35</td>\n",
       "      <td>5040.3</td>\n",
       "      <td>Close Long</td>\n",
       "      <td>-22.4402</td>\n",
       "      <td>0x0780085b0c0a943eea800422374d920204c100edf579...</td>\n",
       "      <td>88803313862</td>\n",
       "      <td>False</td>\n",
       "      <td>0.046616</td>\n",
       "      <td>6.930000e+14</td>\n",
       "      <td>1.750000e+12</td>\n",
       "    </tr>\n",
       "    <tr>\n",
       "      <th>211222</th>\n",
       "      <td>0x72743ae2822edd658c0c50608fd7c5c501b2afbd</td>\n",
       "      <td>FARTCOIN</td>\n",
       "      <td>1.101</td>\n",
       "      <td>3599.8</td>\n",
       "      <td>3963.38</td>\n",
       "      <td>SELL</td>\n",
       "      <td>25-04-2025 15:35</td>\n",
       "      <td>4616.9</td>\n",
       "      <td>Close Long</td>\n",
       "      <td>-190.7894</td>\n",
       "      <td>0x349c29934913b25c89e20422374d920204cd008b8a0e...</td>\n",
       "      <td>88803313862</td>\n",
       "      <td>False</td>\n",
       "      <td>0.396337</td>\n",
       "      <td>4.180000e+14</td>\n",
       "      <td>1.750000e+12</td>\n",
       "    </tr>\n",
       "    <tr>\n",
       "      <th>211223</th>\n",
       "      <td>0x72743ae2822edd658c0c50608fd7c5c501b2afbd</td>\n",
       "      <td>FARTCOIN</td>\n",
       "      <td>1.101</td>\n",
       "      <td>1017.1</td>\n",
       "      <td>1119.83</td>\n",
       "      <td>SELL</td>\n",
       "      <td>25-04-2025 15:35</td>\n",
       "      <td>1017.1</td>\n",
       "      <td>Close Long</td>\n",
       "      <td>-53.9063</td>\n",
       "      <td>0xac77fab973c455d77a670422374d9602039800f1f78c...</td>\n",
       "      <td>88803313862</td>\n",
       "      <td>False</td>\n",
       "      <td>0.111982</td>\n",
       "      <td>3.270000e+14</td>\n",
       "      <td>1.750000e+12</td>\n",
       "    </tr>\n",
       "  </tbody>\n",
       "</table>\n",
       "</div>"
      ],
      "text/plain": [
       "                                           Account      Coin  Execution Price  \\\n",
       "211219  0x72743ae2822edd658c0c50608fd7c5c501b2afbd  FARTCOIN            1.101   \n",
       "211220  0x72743ae2822edd658c0c50608fd7c5c501b2afbd  FARTCOIN            1.101   \n",
       "211221  0x72743ae2822edd658c0c50608fd7c5c501b2afbd  FARTCOIN            1.101   \n",
       "211222  0x72743ae2822edd658c0c50608fd7c5c501b2afbd  FARTCOIN            1.101   \n",
       "211223  0x72743ae2822edd658c0c50608fd7c5c501b2afbd  FARTCOIN            1.101   \n",
       "\n",
       "        Size Tokens  Size USD  Side     Timestamp IST  Start Position  \\\n",
       "211219        382.2    420.80  SELL  25-04-2025 15:35          7546.6   \n",
       "211220       2124.1   2338.63  SELL  25-04-2025 15:35          7164.4   \n",
       "211221        423.4    466.16  SELL  25-04-2025 15:35          5040.3   \n",
       "211222       3599.8   3963.38  SELL  25-04-2025 15:35          4616.9   \n",
       "211223       1017.1   1119.83  SELL  25-04-2025 15:35          1017.1   \n",
       "\n",
       "         Direction  Closed PnL  \\\n",
       "211219  Close Long    -20.2566   \n",
       "211220  Close Long   -112.5773   \n",
       "211221  Close Long    -22.4402   \n",
       "211222  Close Long   -190.7894   \n",
       "211223  Close Long    -53.9063   \n",
       "\n",
       "                                         Transaction Hash     Order ID  \\\n",
       "211219  0xcd339c08dc7b615a993c0422374d8e02027400092bc2...  88803313862   \n",
       "211220  0x29e8ede2a3a37aa0eac00422374d8e02029b00ac9f3c...  88803313862   \n",
       "211221  0x0780085b0c0a943eea800422374d920204c100edf579...  88803313862   \n",
       "211222  0x349c29934913b25c89e20422374d920204cd008b8a0e...  88803313862   \n",
       "211223  0xac77fab973c455d77a670422374d9602039800f1f78c...  88803313862   \n",
       "\n",
       "        Crossed       Fee      Trade ID     Timestamp  \n",
       "211219    False  0.042080  1.990000e+14  1.750000e+12  \n",
       "211220    False  0.233863  9.260000e+14  1.750000e+12  \n",
       "211221    False  0.046616  6.930000e+14  1.750000e+12  \n",
       "211222    False  0.396337  4.180000e+14  1.750000e+12  \n",
       "211223    False  0.111982  3.270000e+14  1.750000e+12  "
      ]
     },
     "execution_count": 15,
     "metadata": {},
     "output_type": "execute_result"
    }
   ],
   "source": [
    "trades.tail()"
   ]
  },
  {
   "cell_type": "code",
   "execution_count": 19,
   "id": "e812df34-359e-4ae3-8051-5f5b7f1337bf",
   "metadata": {},
   "outputs": [
    {
     "data": {
      "text/plain": [
       "(211224, 16)"
      ]
     },
     "execution_count": 19,
     "metadata": {},
     "output_type": "execute_result"
    }
   ],
   "source": [
    "trades.shape"
   ]
  },
  {
   "cell_type": "code",
   "execution_count": 21,
   "id": "e480f0c9-0643-426a-b21f-e3f3c157a67b",
   "metadata": {},
   "outputs": [
    {
     "data": {
      "text/plain": [
       "Index(['Account', 'Coin', 'Execution Price', 'Size Tokens', 'Size USD', 'Side',\n",
       "       'Timestamp IST', 'Start Position', 'Direction', 'Closed PnL',\n",
       "       'Transaction Hash', 'Order ID', 'Crossed', 'Fee', 'Trade ID',\n",
       "       'Timestamp'],\n",
       "      dtype='object')"
      ]
     },
     "execution_count": 21,
     "metadata": {},
     "output_type": "execute_result"
    }
   ],
   "source": [
    "trades.columns"
   ]
  },
  {
   "cell_type": "code",
   "execution_count": 23,
   "id": "d0a8f410-ce2d-457b-89c3-50dbc48a83bb",
   "metadata": {},
   "outputs": [
    {
     "name": "stdout",
     "output_type": "stream",
     "text": [
      "<class 'pandas.core.frame.DataFrame'>\n",
      "RangeIndex: 211224 entries, 0 to 211223\n",
      "Data columns (total 16 columns):\n",
      " #   Column            Non-Null Count   Dtype  \n",
      "---  ------            --------------   -----  \n",
      " 0   Account           211224 non-null  object \n",
      " 1   Coin              211224 non-null  object \n",
      " 2   Execution Price   211224 non-null  float64\n",
      " 3   Size Tokens       211224 non-null  float64\n",
      " 4   Size USD          211224 non-null  float64\n",
      " 5   Side              211224 non-null  object \n",
      " 6   Timestamp IST     211224 non-null  object \n",
      " 7   Start Position    211224 non-null  float64\n",
      " 8   Direction         211224 non-null  object \n",
      " 9   Closed PnL        211224 non-null  float64\n",
      " 10  Transaction Hash  211224 non-null  object \n",
      " 11  Order ID          211224 non-null  int64  \n",
      " 12  Crossed           211224 non-null  bool   \n",
      " 13  Fee               211224 non-null  float64\n",
      " 14  Trade ID          211224 non-null  float64\n",
      " 15  Timestamp         211224 non-null  float64\n",
      "dtypes: bool(1), float64(8), int64(1), object(6)\n",
      "memory usage: 24.4+ MB\n"
     ]
    }
   ],
   "source": [
    "trades.info()"
   ]
  },
  {
   "cell_type": "code",
   "execution_count": 25,
   "id": "7f715075-cc0a-4562-8daa-66f5b3df9052",
   "metadata": {},
   "outputs": [
    {
     "data": {
      "text/plain": [
       "Account             0\n",
       "Coin                0\n",
       "Execution Price     0\n",
       "Size Tokens         0\n",
       "Size USD            0\n",
       "Side                0\n",
       "Timestamp IST       0\n",
       "Start Position      0\n",
       "Direction           0\n",
       "Closed PnL          0\n",
       "Transaction Hash    0\n",
       "Order ID            0\n",
       "Crossed             0\n",
       "Fee                 0\n",
       "Trade ID            0\n",
       "Timestamp           0\n",
       "dtype: int64"
      ]
     },
     "execution_count": 25,
     "metadata": {},
     "output_type": "execute_result"
    }
   ],
   "source": [
    "trades.isnull().sum()"
   ]
  },
  {
   "cell_type": "code",
   "execution_count": 27,
   "id": "0d899e2d-8b31-4fbb-aa51-97ec86516ecc",
   "metadata": {},
   "outputs": [
    {
     "data": {
      "text/html": [
       "<div>\n",
       "<style scoped>\n",
       "    .dataframe tbody tr th:only-of-type {\n",
       "        vertical-align: middle;\n",
       "    }\n",
       "\n",
       "    .dataframe tbody tr th {\n",
       "        vertical-align: top;\n",
       "    }\n",
       "\n",
       "    .dataframe thead th {\n",
       "        text-align: right;\n",
       "    }\n",
       "</style>\n",
       "<table border=\"1\" class=\"dataframe\">\n",
       "  <thead>\n",
       "    <tr style=\"text-align: right;\">\n",
       "      <th></th>\n",
       "      <th>Execution Price</th>\n",
       "      <th>Size Tokens</th>\n",
       "      <th>Size USD</th>\n",
       "      <th>Start Position</th>\n",
       "      <th>Closed PnL</th>\n",
       "      <th>Order ID</th>\n",
       "      <th>Fee</th>\n",
       "      <th>Trade ID</th>\n",
       "      <th>Timestamp</th>\n",
       "    </tr>\n",
       "  </thead>\n",
       "  <tbody>\n",
       "    <tr>\n",
       "      <th>count</th>\n",
       "      <td>211224.000000</td>\n",
       "      <td>2.112240e+05</td>\n",
       "      <td>2.112240e+05</td>\n",
       "      <td>2.112240e+05</td>\n",
       "      <td>211224.000000</td>\n",
       "      <td>2.112240e+05</td>\n",
       "      <td>211224.000000</td>\n",
       "      <td>2.112240e+05</td>\n",
       "      <td>2.112240e+05</td>\n",
       "    </tr>\n",
       "    <tr>\n",
       "      <th>mean</th>\n",
       "      <td>11414.723350</td>\n",
       "      <td>4.623365e+03</td>\n",
       "      <td>5.639451e+03</td>\n",
       "      <td>-2.994625e+04</td>\n",
       "      <td>48.749001</td>\n",
       "      <td>6.965388e+10</td>\n",
       "      <td>1.163967</td>\n",
       "      <td>5.628549e+14</td>\n",
       "      <td>1.737744e+12</td>\n",
       "    </tr>\n",
       "    <tr>\n",
       "      <th>std</th>\n",
       "      <td>29447.654868</td>\n",
       "      <td>1.042729e+05</td>\n",
       "      <td>3.657514e+04</td>\n",
       "      <td>6.738074e+05</td>\n",
       "      <td>919.164828</td>\n",
       "      <td>1.835753e+10</td>\n",
       "      <td>6.758854</td>\n",
       "      <td>3.257565e+14</td>\n",
       "      <td>8.689920e+09</td>\n",
       "    </tr>\n",
       "    <tr>\n",
       "      <th>min</th>\n",
       "      <td>0.000005</td>\n",
       "      <td>8.740000e-07</td>\n",
       "      <td>0.000000e+00</td>\n",
       "      <td>-1.433463e+07</td>\n",
       "      <td>-117990.104100</td>\n",
       "      <td>1.732711e+08</td>\n",
       "      <td>-1.175712</td>\n",
       "      <td>0.000000e+00</td>\n",
       "      <td>1.680000e+12</td>\n",
       "    </tr>\n",
       "    <tr>\n",
       "      <th>25%</th>\n",
       "      <td>4.854700</td>\n",
       "      <td>2.940000e+00</td>\n",
       "      <td>1.937900e+02</td>\n",
       "      <td>-3.762311e+02</td>\n",
       "      <td>0.000000</td>\n",
       "      <td>5.983853e+10</td>\n",
       "      <td>0.016121</td>\n",
       "      <td>2.810000e+14</td>\n",
       "      <td>1.740000e+12</td>\n",
       "    </tr>\n",
       "    <tr>\n",
       "      <th>50%</th>\n",
       "      <td>18.280000</td>\n",
       "      <td>3.200000e+01</td>\n",
       "      <td>5.970450e+02</td>\n",
       "      <td>8.472793e+01</td>\n",
       "      <td>0.000000</td>\n",
       "      <td>7.442939e+10</td>\n",
       "      <td>0.089578</td>\n",
       "      <td>5.620000e+14</td>\n",
       "      <td>1.740000e+12</td>\n",
       "    </tr>\n",
       "    <tr>\n",
       "      <th>75%</th>\n",
       "      <td>101.580000</td>\n",
       "      <td>1.879025e+02</td>\n",
       "      <td>2.058960e+03</td>\n",
       "      <td>9.337278e+03</td>\n",
       "      <td>5.792797</td>\n",
       "      <td>8.335543e+10</td>\n",
       "      <td>0.393811</td>\n",
       "      <td>8.460000e+14</td>\n",
       "      <td>1.740000e+12</td>\n",
       "    </tr>\n",
       "    <tr>\n",
       "      <th>max</th>\n",
       "      <td>109004.000000</td>\n",
       "      <td>1.582244e+07</td>\n",
       "      <td>3.921431e+06</td>\n",
       "      <td>3.050948e+07</td>\n",
       "      <td>135329.090100</td>\n",
       "      <td>9.014923e+10</td>\n",
       "      <td>837.471593</td>\n",
       "      <td>1.130000e+15</td>\n",
       "      <td>1.750000e+12</td>\n",
       "    </tr>\n",
       "  </tbody>\n",
       "</table>\n",
       "</div>"
      ],
      "text/plain": [
       "       Execution Price   Size Tokens      Size USD  Start Position  \\\n",
       "count    211224.000000  2.112240e+05  2.112240e+05    2.112240e+05   \n",
       "mean      11414.723350  4.623365e+03  5.639451e+03   -2.994625e+04   \n",
       "std       29447.654868  1.042729e+05  3.657514e+04    6.738074e+05   \n",
       "min           0.000005  8.740000e-07  0.000000e+00   -1.433463e+07   \n",
       "25%           4.854700  2.940000e+00  1.937900e+02   -3.762311e+02   \n",
       "50%          18.280000  3.200000e+01  5.970450e+02    8.472793e+01   \n",
       "75%         101.580000  1.879025e+02  2.058960e+03    9.337278e+03   \n",
       "max      109004.000000  1.582244e+07  3.921431e+06    3.050948e+07   \n",
       "\n",
       "          Closed PnL      Order ID            Fee      Trade ID     Timestamp  \n",
       "count  211224.000000  2.112240e+05  211224.000000  2.112240e+05  2.112240e+05  \n",
       "mean       48.749001  6.965388e+10       1.163967  5.628549e+14  1.737744e+12  \n",
       "std       919.164828  1.835753e+10       6.758854  3.257565e+14  8.689920e+09  \n",
       "min   -117990.104100  1.732711e+08      -1.175712  0.000000e+00  1.680000e+12  \n",
       "25%         0.000000  5.983853e+10       0.016121  2.810000e+14  1.740000e+12  \n",
       "50%         0.000000  7.442939e+10       0.089578  5.620000e+14  1.740000e+12  \n",
       "75%         5.792797  8.335543e+10       0.393811  8.460000e+14  1.740000e+12  \n",
       "max    135329.090100  9.014923e+10     837.471593  1.130000e+15  1.750000e+12  "
      ]
     },
     "execution_count": 27,
     "metadata": {},
     "output_type": "execute_result"
    }
   ],
   "source": [
    "trades.describe()"
   ]
  },
  {
   "cell_type": "code",
   "execution_count": 29,
   "id": "27b5f074-425f-45c8-828c-c2b7cb067812",
   "metadata": {},
   "outputs": [
    {
     "data": {
      "text/plain": [
       "0"
      ]
     },
     "execution_count": 29,
     "metadata": {},
     "output_type": "execute_result"
    }
   ],
   "source": [
    "trades.duplicated().sum()"
   ]
  },
  {
   "cell_type": "code",
   "execution_count": 41,
   "id": "a44e6de2-53c8-41f2-90f4-72b35924a382",
   "metadata": {},
   "outputs": [
    {
     "data": {
      "text/plain": [
       "Account                     object\n",
       "Coin                        object\n",
       "Execution Price            float64\n",
       "Size Tokens                float64\n",
       "Size USD                   float64\n",
       "Side                        object\n",
       "Timestamp IST       datetime64[ns]\n",
       "Start Position             float64\n",
       "Direction                   object\n",
       "Closed PnL                 float64\n",
       "Transaction Hash            object\n",
       "Crossed                       bool\n",
       "Fee                        float64\n",
       "Trade ID                   float64\n",
       "Timestamp                  float64\n",
       "dtype: object"
      ]
     },
     "execution_count": 41,
     "metadata": {},
     "output_type": "execute_result"
    }
   ],
   "source": [
    "trades.dtypes"
   ]
  },
  {
   "cell_type": "code",
   "execution_count": 33,
   "id": "04a1cbd3-4e12-4841-85cf-b73228b6bd31",
   "metadata": {},
   "outputs": [],
   "source": [
    "trades['Timestamp IST'] = pd.to_datetime(trades['Timestamp IST'], format='%d-%m-%Y %H:%M')"
   ]
  },
  {
   "cell_type": "code",
   "execution_count": 37,
   "id": "b28b9227-fe5a-407a-9c97-3eecd4294252",
   "metadata": {},
   "outputs": [],
   "source": [
    "trades['Crossed'] = trades['Crossed'].astype(bool)"
   ]
  },
  {
   "cell_type": "code",
   "execution_count": 39,
   "id": "574b36ab-47a6-44e0-b467-27f7b8bbe681",
   "metadata": {},
   "outputs": [],
   "source": [
    "trades.set_index(keys = \"Order ID\", inplace = True)"
   ]
  },
  {
   "cell_type": "code",
   "execution_count": 43,
   "id": "0910c427-35f0-4843-be0d-2755b4e44782",
   "metadata": {},
   "outputs": [
    {
     "data": {
      "text/html": [
       "<div>\n",
       "<style scoped>\n",
       "    .dataframe tbody tr th:only-of-type {\n",
       "        vertical-align: middle;\n",
       "    }\n",
       "\n",
       "    .dataframe tbody tr th {\n",
       "        vertical-align: top;\n",
       "    }\n",
       "\n",
       "    .dataframe thead th {\n",
       "        text-align: right;\n",
       "    }\n",
       "</style>\n",
       "<table border=\"1\" class=\"dataframe\">\n",
       "  <thead>\n",
       "    <tr style=\"text-align: right;\">\n",
       "      <th></th>\n",
       "      <th>Account</th>\n",
       "      <th>Coin</th>\n",
       "      <th>Execution Price</th>\n",
       "      <th>Size Tokens</th>\n",
       "      <th>Size USD</th>\n",
       "      <th>Side</th>\n",
       "      <th>Timestamp IST</th>\n",
       "      <th>Start Position</th>\n",
       "      <th>Direction</th>\n",
       "      <th>Closed PnL</th>\n",
       "      <th>Transaction Hash</th>\n",
       "      <th>Crossed</th>\n",
       "      <th>Fee</th>\n",
       "      <th>Trade ID</th>\n",
       "      <th>Timestamp</th>\n",
       "    </tr>\n",
       "    <tr>\n",
       "      <th>Order ID</th>\n",
       "      <th></th>\n",
       "      <th></th>\n",
       "      <th></th>\n",
       "      <th></th>\n",
       "      <th></th>\n",
       "      <th></th>\n",
       "      <th></th>\n",
       "      <th></th>\n",
       "      <th></th>\n",
       "      <th></th>\n",
       "      <th></th>\n",
       "      <th></th>\n",
       "      <th></th>\n",
       "      <th></th>\n",
       "      <th></th>\n",
       "    </tr>\n",
       "  </thead>\n",
       "  <tbody>\n",
       "    <tr>\n",
       "      <th>52017706630</th>\n",
       "      <td>0xae5eacaf9c6b9111fd53034a602c192a04e082ed</td>\n",
       "      <td>@107</td>\n",
       "      <td>7.9769</td>\n",
       "      <td>986.87</td>\n",
       "      <td>7872.16</td>\n",
       "      <td>BUY</td>\n",
       "      <td>2024-12-02 22:50:00</td>\n",
       "      <td>0.000000</td>\n",
       "      <td>Buy</td>\n",
       "      <td>0.0</td>\n",
       "      <td>0xec09451986a1874e3a980418412fcd0201f500c95bac...</td>\n",
       "      <td>True</td>\n",
       "      <td>0.345404</td>\n",
       "      <td>8.950000e+14</td>\n",
       "      <td>1.730000e+12</td>\n",
       "    </tr>\n",
       "    <tr>\n",
       "      <th>52017706630</th>\n",
       "      <td>0xae5eacaf9c6b9111fd53034a602c192a04e082ed</td>\n",
       "      <td>@107</td>\n",
       "      <td>7.9800</td>\n",
       "      <td>16.00</td>\n",
       "      <td>127.68</td>\n",
       "      <td>BUY</td>\n",
       "      <td>2024-12-02 22:50:00</td>\n",
       "      <td>986.524596</td>\n",
       "      <td>Buy</td>\n",
       "      <td>0.0</td>\n",
       "      <td>0xec09451986a1874e3a980418412fcd0201f500c95bac...</td>\n",
       "      <td>True</td>\n",
       "      <td>0.005600</td>\n",
       "      <td>4.430000e+14</td>\n",
       "      <td>1.730000e+12</td>\n",
       "    </tr>\n",
       "    <tr>\n",
       "      <th>52017706630</th>\n",
       "      <td>0xae5eacaf9c6b9111fd53034a602c192a04e082ed</td>\n",
       "      <td>@107</td>\n",
       "      <td>7.9855</td>\n",
       "      <td>144.09</td>\n",
       "      <td>1150.63</td>\n",
       "      <td>BUY</td>\n",
       "      <td>2024-12-02 22:50:00</td>\n",
       "      <td>1002.518996</td>\n",
       "      <td>Buy</td>\n",
       "      <td>0.0</td>\n",
       "      <td>0xec09451986a1874e3a980418412fcd0201f500c95bac...</td>\n",
       "      <td>True</td>\n",
       "      <td>0.050431</td>\n",
       "      <td>6.600000e+14</td>\n",
       "      <td>1.730000e+12</td>\n",
       "    </tr>\n",
       "    <tr>\n",
       "      <th>52017706630</th>\n",
       "      <td>0xae5eacaf9c6b9111fd53034a602c192a04e082ed</td>\n",
       "      <td>@107</td>\n",
       "      <td>7.9874</td>\n",
       "      <td>142.98</td>\n",
       "      <td>1142.04</td>\n",
       "      <td>BUY</td>\n",
       "      <td>2024-12-02 22:50:00</td>\n",
       "      <td>1146.558564</td>\n",
       "      <td>Buy</td>\n",
       "      <td>0.0</td>\n",
       "      <td>0xec09451986a1874e3a980418412fcd0201f500c95bac...</td>\n",
       "      <td>True</td>\n",
       "      <td>0.050043</td>\n",
       "      <td>1.080000e+15</td>\n",
       "      <td>1.730000e+12</td>\n",
       "    </tr>\n",
       "    <tr>\n",
       "      <th>52017706630</th>\n",
       "      <td>0xae5eacaf9c6b9111fd53034a602c192a04e082ed</td>\n",
       "      <td>@107</td>\n",
       "      <td>7.9894</td>\n",
       "      <td>8.73</td>\n",
       "      <td>69.75</td>\n",
       "      <td>BUY</td>\n",
       "      <td>2024-12-02 22:50:00</td>\n",
       "      <td>1289.488521</td>\n",
       "      <td>Buy</td>\n",
       "      <td>0.0</td>\n",
       "      <td>0xec09451986a1874e3a980418412fcd0201f500c95bac...</td>\n",
       "      <td>True</td>\n",
       "      <td>0.003055</td>\n",
       "      <td>1.050000e+15</td>\n",
       "      <td>1.730000e+12</td>\n",
       "    </tr>\n",
       "  </tbody>\n",
       "</table>\n",
       "</div>"
      ],
      "text/plain": [
       "                                                Account  Coin  \\\n",
       "Order ID                                                        \n",
       "52017706630  0xae5eacaf9c6b9111fd53034a602c192a04e082ed  @107   \n",
       "52017706630  0xae5eacaf9c6b9111fd53034a602c192a04e082ed  @107   \n",
       "52017706630  0xae5eacaf9c6b9111fd53034a602c192a04e082ed  @107   \n",
       "52017706630  0xae5eacaf9c6b9111fd53034a602c192a04e082ed  @107   \n",
       "52017706630  0xae5eacaf9c6b9111fd53034a602c192a04e082ed  @107   \n",
       "\n",
       "             Execution Price  Size Tokens  Size USD Side       Timestamp IST  \\\n",
       "Order ID                                                                       \n",
       "52017706630           7.9769       986.87   7872.16  BUY 2024-12-02 22:50:00   \n",
       "52017706630           7.9800        16.00    127.68  BUY 2024-12-02 22:50:00   \n",
       "52017706630           7.9855       144.09   1150.63  BUY 2024-12-02 22:50:00   \n",
       "52017706630           7.9874       142.98   1142.04  BUY 2024-12-02 22:50:00   \n",
       "52017706630           7.9894         8.73     69.75  BUY 2024-12-02 22:50:00   \n",
       "\n",
       "             Start Position Direction  Closed PnL  \\\n",
       "Order ID                                            \n",
       "52017706630        0.000000       Buy         0.0   \n",
       "52017706630      986.524596       Buy         0.0   \n",
       "52017706630     1002.518996       Buy         0.0   \n",
       "52017706630     1146.558564       Buy         0.0   \n",
       "52017706630     1289.488521       Buy         0.0   \n",
       "\n",
       "                                              Transaction Hash  Crossed  \\\n",
       "Order ID                                                                  \n",
       "52017706630  0xec09451986a1874e3a980418412fcd0201f500c95bac...     True   \n",
       "52017706630  0xec09451986a1874e3a980418412fcd0201f500c95bac...     True   \n",
       "52017706630  0xec09451986a1874e3a980418412fcd0201f500c95bac...     True   \n",
       "52017706630  0xec09451986a1874e3a980418412fcd0201f500c95bac...     True   \n",
       "52017706630  0xec09451986a1874e3a980418412fcd0201f500c95bac...     True   \n",
       "\n",
       "                  Fee      Trade ID     Timestamp  \n",
       "Order ID                                           \n",
       "52017706630  0.345404  8.950000e+14  1.730000e+12  \n",
       "52017706630  0.005600  4.430000e+14  1.730000e+12  \n",
       "52017706630  0.050431  6.600000e+14  1.730000e+12  \n",
       "52017706630  0.050043  1.080000e+15  1.730000e+12  \n",
       "52017706630  0.003055  1.050000e+15  1.730000e+12  "
      ]
     },
     "execution_count": 43,
     "metadata": {},
     "output_type": "execute_result"
    }
   ],
   "source": [
    "trades.head()"
   ]
  },
  {
   "cell_type": "markdown",
   "id": "0cbe01c3-4cc1-4063-9942-a634b7e0560b",
   "metadata": {},
   "source": [
    "### Fear_Greed_Index"
   ]
  },
  {
   "cell_type": "code",
   "execution_count": 45,
   "id": "43086366-4d1b-4da4-b868-4c3b462d0fe3",
   "metadata": {},
   "outputs": [
    {
     "data": {
      "text/html": [
       "<div>\n",
       "<style scoped>\n",
       "    .dataframe tbody tr th:only-of-type {\n",
       "        vertical-align: middle;\n",
       "    }\n",
       "\n",
       "    .dataframe tbody tr th {\n",
       "        vertical-align: top;\n",
       "    }\n",
       "\n",
       "    .dataframe thead th {\n",
       "        text-align: right;\n",
       "    }\n",
       "</style>\n",
       "<table border=\"1\" class=\"dataframe\">\n",
       "  <thead>\n",
       "    <tr style=\"text-align: right;\">\n",
       "      <th></th>\n",
       "      <th>timestamp</th>\n",
       "      <th>value</th>\n",
       "      <th>classification</th>\n",
       "      <th>date</th>\n",
       "    </tr>\n",
       "  </thead>\n",
       "  <tbody>\n",
       "    <tr>\n",
       "      <th>48</th>\n",
       "      <td>1521610200</td>\n",
       "      <td>36</td>\n",
       "      <td>Fear</td>\n",
       "      <td>2018-03-21</td>\n",
       "    </tr>\n",
       "    <tr>\n",
       "      <th>858</th>\n",
       "      <td>1591853400</td>\n",
       "      <td>52</td>\n",
       "      <td>Neutral</td>\n",
       "      <td>2020-06-11</td>\n",
       "    </tr>\n",
       "    <tr>\n",
       "      <th>2402</th>\n",
       "      <td>1725255000</td>\n",
       "      <td>26</td>\n",
       "      <td>Fear</td>\n",
       "      <td>2024-09-02</td>\n",
       "    </tr>\n",
       "    <tr>\n",
       "      <th>1972</th>\n",
       "      <td>1688103000</td>\n",
       "      <td>56</td>\n",
       "      <td>Greed</td>\n",
       "      <td>2023-06-30</td>\n",
       "    </tr>\n",
       "  </tbody>\n",
       "</table>\n",
       "</div>"
      ],
      "text/plain": [
       "       timestamp  value classification        date\n",
       "48    1521610200     36           Fear  2018-03-21\n",
       "858   1591853400     52        Neutral  2020-06-11\n",
       "2402  1725255000     26           Fear  2024-09-02\n",
       "1972  1688103000     56          Greed  2023-06-30"
      ]
     },
     "execution_count": 45,
     "metadata": {},
     "output_type": "execute_result"
    }
   ],
   "source": [
    "sentiment.sample(4)"
   ]
  },
  {
   "cell_type": "code",
   "execution_count": 55,
   "id": "ddb91295-defd-47a2-bc09-e7a893e49bb5",
   "metadata": {},
   "outputs": [
    {
     "data": {
      "text/html": [
       "<div>\n",
       "<style scoped>\n",
       "    .dataframe tbody tr th:only-of-type {\n",
       "        vertical-align: middle;\n",
       "    }\n",
       "\n",
       "    .dataframe tbody tr th {\n",
       "        vertical-align: top;\n",
       "    }\n",
       "\n",
       "    .dataframe thead th {\n",
       "        text-align: right;\n",
       "    }\n",
       "</style>\n",
       "<table border=\"1\" class=\"dataframe\">\n",
       "  <thead>\n",
       "    <tr style=\"text-align: right;\">\n",
       "      <th></th>\n",
       "      <th>timestamp</th>\n",
       "      <th>value</th>\n",
       "      <th>classification</th>\n",
       "      <th>date</th>\n",
       "    </tr>\n",
       "  </thead>\n",
       "  <tbody>\n",
       "    <tr>\n",
       "      <th>0</th>\n",
       "      <td>1517463000</td>\n",
       "      <td>30</td>\n",
       "      <td>Fear</td>\n",
       "      <td>2018-02-01</td>\n",
       "    </tr>\n",
       "    <tr>\n",
       "      <th>1</th>\n",
       "      <td>1517549400</td>\n",
       "      <td>15</td>\n",
       "      <td>Extreme Fear</td>\n",
       "      <td>2018-02-02</td>\n",
       "    </tr>\n",
       "    <tr>\n",
       "      <th>2</th>\n",
       "      <td>1517635800</td>\n",
       "      <td>40</td>\n",
       "      <td>Fear</td>\n",
       "      <td>2018-02-03</td>\n",
       "    </tr>\n",
       "    <tr>\n",
       "      <th>3</th>\n",
       "      <td>1517722200</td>\n",
       "      <td>24</td>\n",
       "      <td>Extreme Fear</td>\n",
       "      <td>2018-02-04</td>\n",
       "    </tr>\n",
       "    <tr>\n",
       "      <th>4</th>\n",
       "      <td>1517808600</td>\n",
       "      <td>11</td>\n",
       "      <td>Extreme Fear</td>\n",
       "      <td>2018-02-05</td>\n",
       "    </tr>\n",
       "  </tbody>\n",
       "</table>\n",
       "</div>"
      ],
      "text/plain": [
       "    timestamp  value classification        date\n",
       "0  1517463000     30           Fear  2018-02-01\n",
       "1  1517549400     15   Extreme Fear  2018-02-02\n",
       "2  1517635800     40           Fear  2018-02-03\n",
       "3  1517722200     24   Extreme Fear  2018-02-04\n",
       "4  1517808600     11   Extreme Fear  2018-02-05"
      ]
     },
     "execution_count": 55,
     "metadata": {},
     "output_type": "execute_result"
    }
   ],
   "source": [
    "sentiment.head()"
   ]
  },
  {
   "cell_type": "code",
   "execution_count": 57,
   "id": "ae9276be-1570-4a1d-8ea2-8c4e2c1d9ffc",
   "metadata": {},
   "outputs": [
    {
     "data": {
      "text/html": [
       "<div>\n",
       "<style scoped>\n",
       "    .dataframe tbody tr th:only-of-type {\n",
       "        vertical-align: middle;\n",
       "    }\n",
       "\n",
       "    .dataframe tbody tr th {\n",
       "        vertical-align: top;\n",
       "    }\n",
       "\n",
       "    .dataframe thead th {\n",
       "        text-align: right;\n",
       "    }\n",
       "</style>\n",
       "<table border=\"1\" class=\"dataframe\">\n",
       "  <thead>\n",
       "    <tr style=\"text-align: right;\">\n",
       "      <th></th>\n",
       "      <th>timestamp</th>\n",
       "      <th>value</th>\n",
       "      <th>classification</th>\n",
       "      <th>date</th>\n",
       "    </tr>\n",
       "  </thead>\n",
       "  <tbody>\n",
       "    <tr>\n",
       "      <th>2639</th>\n",
       "      <td>1745818200</td>\n",
       "      <td>54</td>\n",
       "      <td>Neutral</td>\n",
       "      <td>2025-04-28</td>\n",
       "    </tr>\n",
       "    <tr>\n",
       "      <th>2640</th>\n",
       "      <td>1745904600</td>\n",
       "      <td>60</td>\n",
       "      <td>Greed</td>\n",
       "      <td>2025-04-29</td>\n",
       "    </tr>\n",
       "    <tr>\n",
       "      <th>2641</th>\n",
       "      <td>1745991000</td>\n",
       "      <td>56</td>\n",
       "      <td>Greed</td>\n",
       "      <td>2025-04-30</td>\n",
       "    </tr>\n",
       "    <tr>\n",
       "      <th>2642</th>\n",
       "      <td>1746077400</td>\n",
       "      <td>53</td>\n",
       "      <td>Neutral</td>\n",
       "      <td>2025-05-01</td>\n",
       "    </tr>\n",
       "    <tr>\n",
       "      <th>2643</th>\n",
       "      <td>1746163800</td>\n",
       "      <td>67</td>\n",
       "      <td>Greed</td>\n",
       "      <td>2025-05-02</td>\n",
       "    </tr>\n",
       "  </tbody>\n",
       "</table>\n",
       "</div>"
      ],
      "text/plain": [
       "       timestamp  value classification        date\n",
       "2639  1745818200     54        Neutral  2025-04-28\n",
       "2640  1745904600     60          Greed  2025-04-29\n",
       "2641  1745991000     56          Greed  2025-04-30\n",
       "2642  1746077400     53        Neutral  2025-05-01\n",
       "2643  1746163800     67          Greed  2025-05-02"
      ]
     },
     "execution_count": 57,
     "metadata": {},
     "output_type": "execute_result"
    }
   ],
   "source": [
    "sentiment.tail()"
   ]
  },
  {
   "cell_type": "code",
   "execution_count": 59,
   "id": "551ac5f6-44e5-4892-aef6-c5804e2010dc",
   "metadata": {},
   "outputs": [
    {
     "data": {
      "text/plain": [
       "(2644, 4)"
      ]
     },
     "execution_count": 59,
     "metadata": {},
     "output_type": "execute_result"
    }
   ],
   "source": [
    "sentiment.shape"
   ]
  },
  {
   "cell_type": "code",
   "execution_count": 61,
   "id": "c60e7b7f-08aa-463c-90c6-659002885e4a",
   "metadata": {},
   "outputs": [
    {
     "data": {
      "text/plain": [
       "Index(['timestamp', 'value', 'classification', 'date'], dtype='object')"
      ]
     },
     "execution_count": 61,
     "metadata": {},
     "output_type": "execute_result"
    }
   ],
   "source": [
    "sentiment.columns"
   ]
  },
  {
   "cell_type": "code",
   "execution_count": 63,
   "id": "303b012a-6d28-4143-8cf0-9572a62d8388",
   "metadata": {},
   "outputs": [
    {
     "name": "stdout",
     "output_type": "stream",
     "text": [
      "<class 'pandas.core.frame.DataFrame'>\n",
      "RangeIndex: 2644 entries, 0 to 2643\n",
      "Data columns (total 4 columns):\n",
      " #   Column          Non-Null Count  Dtype \n",
      "---  ------          --------------  ----- \n",
      " 0   timestamp       2644 non-null   int64 \n",
      " 1   value           2644 non-null   int64 \n",
      " 2   classification  2644 non-null   object\n",
      " 3   date            2644 non-null   object\n",
      "dtypes: int64(2), object(2)\n",
      "memory usage: 82.8+ KB\n"
     ]
    }
   ],
   "source": [
    "sentiment.info()"
   ]
  },
  {
   "cell_type": "code",
   "execution_count": 65,
   "id": "8872bd94-5864-42d5-aa6a-36963802c2a7",
   "metadata": {},
   "outputs": [
    {
     "data": {
      "text/plain": [
       "timestamp         0\n",
       "value             0\n",
       "classification    0\n",
       "date              0\n",
       "dtype: int64"
      ]
     },
     "execution_count": 65,
     "metadata": {},
     "output_type": "execute_result"
    }
   ],
   "source": [
    "sentiment.isnull().sum()"
   ]
  },
  {
   "cell_type": "code",
   "execution_count": 67,
   "id": "8d634afb-ecbb-43a4-9ee5-434a5f71ed3a",
   "metadata": {},
   "outputs": [
    {
     "data": {
      "text/html": [
       "<div>\n",
       "<style scoped>\n",
       "    .dataframe tbody tr th:only-of-type {\n",
       "        vertical-align: middle;\n",
       "    }\n",
       "\n",
       "    .dataframe tbody tr th {\n",
       "        vertical-align: top;\n",
       "    }\n",
       "\n",
       "    .dataframe thead th {\n",
       "        text-align: right;\n",
       "    }\n",
       "</style>\n",
       "<table border=\"1\" class=\"dataframe\">\n",
       "  <thead>\n",
       "    <tr style=\"text-align: right;\">\n",
       "      <th></th>\n",
       "      <th>timestamp</th>\n",
       "      <th>value</th>\n",
       "    </tr>\n",
       "  </thead>\n",
       "  <tbody>\n",
       "    <tr>\n",
       "      <th>count</th>\n",
       "      <td>2.644000e+03</td>\n",
       "      <td>2644.000000</td>\n",
       "    </tr>\n",
       "    <tr>\n",
       "      <th>mean</th>\n",
       "      <td>1.631899e+09</td>\n",
       "      <td>46.981089</td>\n",
       "    </tr>\n",
       "    <tr>\n",
       "      <th>std</th>\n",
       "      <td>6.597967e+07</td>\n",
       "      <td>21.827680</td>\n",
       "    </tr>\n",
       "    <tr>\n",
       "      <th>min</th>\n",
       "      <td>1.517463e+09</td>\n",
       "      <td>5.000000</td>\n",
       "    </tr>\n",
       "    <tr>\n",
       "      <th>25%</th>\n",
       "      <td>1.574811e+09</td>\n",
       "      <td>28.000000</td>\n",
       "    </tr>\n",
       "    <tr>\n",
       "      <th>50%</th>\n",
       "      <td>1.631900e+09</td>\n",
       "      <td>46.000000</td>\n",
       "    </tr>\n",
       "    <tr>\n",
       "      <th>75%</th>\n",
       "      <td>1.688989e+09</td>\n",
       "      <td>66.000000</td>\n",
       "    </tr>\n",
       "    <tr>\n",
       "      <th>max</th>\n",
       "      <td>1.746164e+09</td>\n",
       "      <td>95.000000</td>\n",
       "    </tr>\n",
       "  </tbody>\n",
       "</table>\n",
       "</div>"
      ],
      "text/plain": [
       "          timestamp        value\n",
       "count  2.644000e+03  2644.000000\n",
       "mean   1.631899e+09    46.981089\n",
       "std    6.597967e+07    21.827680\n",
       "min    1.517463e+09     5.000000\n",
       "25%    1.574811e+09    28.000000\n",
       "50%    1.631900e+09    46.000000\n",
       "75%    1.688989e+09    66.000000\n",
       "max    1.746164e+09    95.000000"
      ]
     },
     "execution_count": 67,
     "metadata": {},
     "output_type": "execute_result"
    }
   ],
   "source": [
    "sentiment.describe()"
   ]
  },
  {
   "cell_type": "code",
   "execution_count": 69,
   "id": "e2d4595d-b6f7-420c-9cef-5b5b7fefdc67",
   "metadata": {},
   "outputs": [
    {
     "data": {
      "text/plain": [
       "0"
      ]
     },
     "execution_count": 69,
     "metadata": {},
     "output_type": "execute_result"
    }
   ],
   "source": [
    "sentiment.duplicated().sum()"
   ]
  },
  {
   "cell_type": "code",
   "execution_count": 75,
   "id": "d8eded7c-8e39-4583-9b52-27b7bb14a1ec",
   "metadata": {},
   "outputs": [
    {
     "data": {
      "text/plain": [
       "timestamp                  int64\n",
       "value                      int64\n",
       "classification            object\n",
       "date              datetime64[ns]\n",
       "dtype: object"
      ]
     },
     "execution_count": 75,
     "metadata": {},
     "output_type": "execute_result"
    }
   ],
   "source": [
    "sentiment.dtypes"
   ]
  },
  {
   "cell_type": "code",
   "execution_count": 73,
   "id": "4b059e05-f454-4318-8cd3-dd5299135afe",
   "metadata": {},
   "outputs": [],
   "source": [
    "sentiment['date'] = pd.to_datetime(sentiment['date'])"
   ]
  },
  {
   "cell_type": "code",
   "execution_count": 77,
   "id": "7245145b-4b4e-4e0a-bb2f-a9e5eeada657",
   "metadata": {},
   "outputs": [
    {
     "data": {
      "text/html": [
       "<div>\n",
       "<style scoped>\n",
       "    .dataframe tbody tr th:only-of-type {\n",
       "        vertical-align: middle;\n",
       "    }\n",
       "\n",
       "    .dataframe tbody tr th {\n",
       "        vertical-align: top;\n",
       "    }\n",
       "\n",
       "    .dataframe thead th {\n",
       "        text-align: right;\n",
       "    }\n",
       "</style>\n",
       "<table border=\"1\" class=\"dataframe\">\n",
       "  <thead>\n",
       "    <tr style=\"text-align: right;\">\n",
       "      <th></th>\n",
       "      <th>timestamp</th>\n",
       "      <th>value</th>\n",
       "      <th>classification</th>\n",
       "      <th>date</th>\n",
       "    </tr>\n",
       "  </thead>\n",
       "  <tbody>\n",
       "    <tr>\n",
       "      <th>0</th>\n",
       "      <td>1517463000</td>\n",
       "      <td>30</td>\n",
       "      <td>Fear</td>\n",
       "      <td>2018-02-01</td>\n",
       "    </tr>\n",
       "    <tr>\n",
       "      <th>1</th>\n",
       "      <td>1517549400</td>\n",
       "      <td>15</td>\n",
       "      <td>Extreme Fear</td>\n",
       "      <td>2018-02-02</td>\n",
       "    </tr>\n",
       "    <tr>\n",
       "      <th>2</th>\n",
       "      <td>1517635800</td>\n",
       "      <td>40</td>\n",
       "      <td>Fear</td>\n",
       "      <td>2018-02-03</td>\n",
       "    </tr>\n",
       "    <tr>\n",
       "      <th>3</th>\n",
       "      <td>1517722200</td>\n",
       "      <td>24</td>\n",
       "      <td>Extreme Fear</td>\n",
       "      <td>2018-02-04</td>\n",
       "    </tr>\n",
       "    <tr>\n",
       "      <th>4</th>\n",
       "      <td>1517808600</td>\n",
       "      <td>11</td>\n",
       "      <td>Extreme Fear</td>\n",
       "      <td>2018-02-05</td>\n",
       "    </tr>\n",
       "  </tbody>\n",
       "</table>\n",
       "</div>"
      ],
      "text/plain": [
       "    timestamp  value classification       date\n",
       "0  1517463000     30           Fear 2018-02-01\n",
       "1  1517549400     15   Extreme Fear 2018-02-02\n",
       "2  1517635800     40           Fear 2018-02-03\n",
       "3  1517722200     24   Extreme Fear 2018-02-04\n",
       "4  1517808600     11   Extreme Fear 2018-02-05"
      ]
     },
     "execution_count": 77,
     "metadata": {},
     "output_type": "execute_result"
    }
   ],
   "source": [
    "sentiment.head()"
   ]
  },
  {
   "cell_type": "code",
   "execution_count": 79,
   "id": "f43e9fce-cd60-491e-a086-83ba0f114933",
   "metadata": {},
   "outputs": [],
   "source": [
    "sentiment.rename(columns = {\"timestamp\" : \"Timestamp\", \"value\" : \"Value\", \n",
    "                           \"classification\" : \"Classification\", \n",
    "                            \"date\" : \"Date\"}, inplace = True)"
   ]
  },
  {
   "cell_type": "code",
   "execution_count": 81,
   "id": "54773b6f-1150-4322-ac29-ff3f7586c365",
   "metadata": {},
   "outputs": [
    {
     "data": {
      "text/html": [
       "<div>\n",
       "<style scoped>\n",
       "    .dataframe tbody tr th:only-of-type {\n",
       "        vertical-align: middle;\n",
       "    }\n",
       "\n",
       "    .dataframe tbody tr th {\n",
       "        vertical-align: top;\n",
       "    }\n",
       "\n",
       "    .dataframe thead th {\n",
       "        text-align: right;\n",
       "    }\n",
       "</style>\n",
       "<table border=\"1\" class=\"dataframe\">\n",
       "  <thead>\n",
       "    <tr style=\"text-align: right;\">\n",
       "      <th></th>\n",
       "      <th>Timestamp</th>\n",
       "      <th>Value</th>\n",
       "      <th>Classification</th>\n",
       "      <th>Date</th>\n",
       "    </tr>\n",
       "  </thead>\n",
       "  <tbody>\n",
       "    <tr>\n",
       "      <th>0</th>\n",
       "      <td>1517463000</td>\n",
       "      <td>30</td>\n",
       "      <td>Fear</td>\n",
       "      <td>2018-02-01</td>\n",
       "    </tr>\n",
       "    <tr>\n",
       "      <th>1</th>\n",
       "      <td>1517549400</td>\n",
       "      <td>15</td>\n",
       "      <td>Extreme Fear</td>\n",
       "      <td>2018-02-02</td>\n",
       "    </tr>\n",
       "    <tr>\n",
       "      <th>2</th>\n",
       "      <td>1517635800</td>\n",
       "      <td>40</td>\n",
       "      <td>Fear</td>\n",
       "      <td>2018-02-03</td>\n",
       "    </tr>\n",
       "    <tr>\n",
       "      <th>3</th>\n",
       "      <td>1517722200</td>\n",
       "      <td>24</td>\n",
       "      <td>Extreme Fear</td>\n",
       "      <td>2018-02-04</td>\n",
       "    </tr>\n",
       "    <tr>\n",
       "      <th>4</th>\n",
       "      <td>1517808600</td>\n",
       "      <td>11</td>\n",
       "      <td>Extreme Fear</td>\n",
       "      <td>2018-02-05</td>\n",
       "    </tr>\n",
       "  </tbody>\n",
       "</table>\n",
       "</div>"
      ],
      "text/plain": [
       "    Timestamp  Value Classification       Date\n",
       "0  1517463000     30           Fear 2018-02-01\n",
       "1  1517549400     15   Extreme Fear 2018-02-02\n",
       "2  1517635800     40           Fear 2018-02-03\n",
       "3  1517722200     24   Extreme Fear 2018-02-04\n",
       "4  1517808600     11   Extreme Fear 2018-02-05"
      ]
     },
     "execution_count": 81,
     "metadata": {},
     "output_type": "execute_result"
    }
   ],
   "source": [
    "sentiment.head()"
   ]
  },
  {
   "cell_type": "markdown",
   "id": "7c04a146-61a0-4422-9771-f1a2167c30fb",
   "metadata": {},
   "source": [
    "### Merging"
   ]
  },
  {
   "cell_type": "code",
   "execution_count": 83,
   "id": "09a4cc70-441e-4b7d-b6f2-bf989fbb82d3",
   "metadata": {},
   "outputs": [],
   "source": [
    "# Extract date from Timestamp IST\n",
    "trades['Date'] = trades['Timestamp IST'].dt.date\n",
    "\n",
    "# Make sure sentiment date is also just the date (not datetime with time)\n",
    "sentiment['Date'] = pd.to_datetime(sentiment['Date']).dt.date"
   ]
  },
  {
   "cell_type": "code",
   "execution_count": 85,
   "id": "b1e54ca5-9b34-4ec6-8677-99d1dba68c53",
   "metadata": {},
   "outputs": [
    {
     "data": {
      "text/html": [
       "<div>\n",
       "<style scoped>\n",
       "    .dataframe tbody tr th:only-of-type {\n",
       "        vertical-align: middle;\n",
       "    }\n",
       "\n",
       "    .dataframe tbody tr th {\n",
       "        vertical-align: top;\n",
       "    }\n",
       "\n",
       "    .dataframe thead th {\n",
       "        text-align: right;\n",
       "    }\n",
       "</style>\n",
       "<table border=\"1\" class=\"dataframe\">\n",
       "  <thead>\n",
       "    <tr style=\"text-align: right;\">\n",
       "      <th></th>\n",
       "      <th>Account</th>\n",
       "      <th>Coin</th>\n",
       "      <th>Execution Price</th>\n",
       "      <th>Size Tokens</th>\n",
       "      <th>Size USD</th>\n",
       "      <th>Side</th>\n",
       "      <th>Timestamp IST</th>\n",
       "      <th>Start Position</th>\n",
       "      <th>Direction</th>\n",
       "      <th>Closed PnL</th>\n",
       "      <th>Transaction Hash</th>\n",
       "      <th>Crossed</th>\n",
       "      <th>Fee</th>\n",
       "      <th>Trade ID</th>\n",
       "      <th>Timestamp</th>\n",
       "      <th>Date</th>\n",
       "    </tr>\n",
       "    <tr>\n",
       "      <th>Order ID</th>\n",
       "      <th></th>\n",
       "      <th></th>\n",
       "      <th></th>\n",
       "      <th></th>\n",
       "      <th></th>\n",
       "      <th></th>\n",
       "      <th></th>\n",
       "      <th></th>\n",
       "      <th></th>\n",
       "      <th></th>\n",
       "      <th></th>\n",
       "      <th></th>\n",
       "      <th></th>\n",
       "      <th></th>\n",
       "      <th></th>\n",
       "      <th></th>\n",
       "    </tr>\n",
       "  </thead>\n",
       "  <tbody>\n",
       "    <tr>\n",
       "      <th>52017706630</th>\n",
       "      <td>0xae5eacaf9c6b9111fd53034a602c192a04e082ed</td>\n",
       "      <td>@107</td>\n",
       "      <td>7.9769</td>\n",
       "      <td>986.87</td>\n",
       "      <td>7872.16</td>\n",
       "      <td>BUY</td>\n",
       "      <td>2024-12-02 22:50:00</td>\n",
       "      <td>0.000000</td>\n",
       "      <td>Buy</td>\n",
       "      <td>0.0</td>\n",
       "      <td>0xec09451986a1874e3a980418412fcd0201f500c95bac...</td>\n",
       "      <td>True</td>\n",
       "      <td>0.345404</td>\n",
       "      <td>8.950000e+14</td>\n",
       "      <td>1.730000e+12</td>\n",
       "      <td>2024-12-02</td>\n",
       "    </tr>\n",
       "    <tr>\n",
       "      <th>52017706630</th>\n",
       "      <td>0xae5eacaf9c6b9111fd53034a602c192a04e082ed</td>\n",
       "      <td>@107</td>\n",
       "      <td>7.9800</td>\n",
       "      <td>16.00</td>\n",
       "      <td>127.68</td>\n",
       "      <td>BUY</td>\n",
       "      <td>2024-12-02 22:50:00</td>\n",
       "      <td>986.524596</td>\n",
       "      <td>Buy</td>\n",
       "      <td>0.0</td>\n",
       "      <td>0xec09451986a1874e3a980418412fcd0201f500c95bac...</td>\n",
       "      <td>True</td>\n",
       "      <td>0.005600</td>\n",
       "      <td>4.430000e+14</td>\n",
       "      <td>1.730000e+12</td>\n",
       "      <td>2024-12-02</td>\n",
       "    </tr>\n",
       "    <tr>\n",
       "      <th>52017706630</th>\n",
       "      <td>0xae5eacaf9c6b9111fd53034a602c192a04e082ed</td>\n",
       "      <td>@107</td>\n",
       "      <td>7.9855</td>\n",
       "      <td>144.09</td>\n",
       "      <td>1150.63</td>\n",
       "      <td>BUY</td>\n",
       "      <td>2024-12-02 22:50:00</td>\n",
       "      <td>1002.518996</td>\n",
       "      <td>Buy</td>\n",
       "      <td>0.0</td>\n",
       "      <td>0xec09451986a1874e3a980418412fcd0201f500c95bac...</td>\n",
       "      <td>True</td>\n",
       "      <td>0.050431</td>\n",
       "      <td>6.600000e+14</td>\n",
       "      <td>1.730000e+12</td>\n",
       "      <td>2024-12-02</td>\n",
       "    </tr>\n",
       "    <tr>\n",
       "      <th>52017706630</th>\n",
       "      <td>0xae5eacaf9c6b9111fd53034a602c192a04e082ed</td>\n",
       "      <td>@107</td>\n",
       "      <td>7.9874</td>\n",
       "      <td>142.98</td>\n",
       "      <td>1142.04</td>\n",
       "      <td>BUY</td>\n",
       "      <td>2024-12-02 22:50:00</td>\n",
       "      <td>1146.558564</td>\n",
       "      <td>Buy</td>\n",
       "      <td>0.0</td>\n",
       "      <td>0xec09451986a1874e3a980418412fcd0201f500c95bac...</td>\n",
       "      <td>True</td>\n",
       "      <td>0.050043</td>\n",
       "      <td>1.080000e+15</td>\n",
       "      <td>1.730000e+12</td>\n",
       "      <td>2024-12-02</td>\n",
       "    </tr>\n",
       "    <tr>\n",
       "      <th>52017706630</th>\n",
       "      <td>0xae5eacaf9c6b9111fd53034a602c192a04e082ed</td>\n",
       "      <td>@107</td>\n",
       "      <td>7.9894</td>\n",
       "      <td>8.73</td>\n",
       "      <td>69.75</td>\n",
       "      <td>BUY</td>\n",
       "      <td>2024-12-02 22:50:00</td>\n",
       "      <td>1289.488521</td>\n",
       "      <td>Buy</td>\n",
       "      <td>0.0</td>\n",
       "      <td>0xec09451986a1874e3a980418412fcd0201f500c95bac...</td>\n",
       "      <td>True</td>\n",
       "      <td>0.003055</td>\n",
       "      <td>1.050000e+15</td>\n",
       "      <td>1.730000e+12</td>\n",
       "      <td>2024-12-02</td>\n",
       "    </tr>\n",
       "  </tbody>\n",
       "</table>\n",
       "</div>"
      ],
      "text/plain": [
       "                                                Account  Coin  \\\n",
       "Order ID                                                        \n",
       "52017706630  0xae5eacaf9c6b9111fd53034a602c192a04e082ed  @107   \n",
       "52017706630  0xae5eacaf9c6b9111fd53034a602c192a04e082ed  @107   \n",
       "52017706630  0xae5eacaf9c6b9111fd53034a602c192a04e082ed  @107   \n",
       "52017706630  0xae5eacaf9c6b9111fd53034a602c192a04e082ed  @107   \n",
       "52017706630  0xae5eacaf9c6b9111fd53034a602c192a04e082ed  @107   \n",
       "\n",
       "             Execution Price  Size Tokens  Size USD Side       Timestamp IST  \\\n",
       "Order ID                                                                       \n",
       "52017706630           7.9769       986.87   7872.16  BUY 2024-12-02 22:50:00   \n",
       "52017706630           7.9800        16.00    127.68  BUY 2024-12-02 22:50:00   \n",
       "52017706630           7.9855       144.09   1150.63  BUY 2024-12-02 22:50:00   \n",
       "52017706630           7.9874       142.98   1142.04  BUY 2024-12-02 22:50:00   \n",
       "52017706630           7.9894         8.73     69.75  BUY 2024-12-02 22:50:00   \n",
       "\n",
       "             Start Position Direction  Closed PnL  \\\n",
       "Order ID                                            \n",
       "52017706630        0.000000       Buy         0.0   \n",
       "52017706630      986.524596       Buy         0.0   \n",
       "52017706630     1002.518996       Buy         0.0   \n",
       "52017706630     1146.558564       Buy         0.0   \n",
       "52017706630     1289.488521       Buy         0.0   \n",
       "\n",
       "                                              Transaction Hash  Crossed  \\\n",
       "Order ID                                                                  \n",
       "52017706630  0xec09451986a1874e3a980418412fcd0201f500c95bac...     True   \n",
       "52017706630  0xec09451986a1874e3a980418412fcd0201f500c95bac...     True   \n",
       "52017706630  0xec09451986a1874e3a980418412fcd0201f500c95bac...     True   \n",
       "52017706630  0xec09451986a1874e3a980418412fcd0201f500c95bac...     True   \n",
       "52017706630  0xec09451986a1874e3a980418412fcd0201f500c95bac...     True   \n",
       "\n",
       "                  Fee      Trade ID     Timestamp        Date  \n",
       "Order ID                                                       \n",
       "52017706630  0.345404  8.950000e+14  1.730000e+12  2024-12-02  \n",
       "52017706630  0.005600  4.430000e+14  1.730000e+12  2024-12-02  \n",
       "52017706630  0.050431  6.600000e+14  1.730000e+12  2024-12-02  \n",
       "52017706630  0.050043  1.080000e+15  1.730000e+12  2024-12-02  \n",
       "52017706630  0.003055  1.050000e+15  1.730000e+12  2024-12-02  "
      ]
     },
     "execution_count": 85,
     "metadata": {},
     "output_type": "execute_result"
    }
   ],
   "source": [
    "trades.head()"
   ]
  },
  {
   "cell_type": "code",
   "execution_count": 87,
   "id": "217e020d-7cd9-4ea3-a156-3b80fdf96473",
   "metadata": {},
   "outputs": [
    {
     "data": {
      "text/html": [
       "<div>\n",
       "<style scoped>\n",
       "    .dataframe tbody tr th:only-of-type {\n",
       "        vertical-align: middle;\n",
       "    }\n",
       "\n",
       "    .dataframe tbody tr th {\n",
       "        vertical-align: top;\n",
       "    }\n",
       "\n",
       "    .dataframe thead th {\n",
       "        text-align: right;\n",
       "    }\n",
       "</style>\n",
       "<table border=\"1\" class=\"dataframe\">\n",
       "  <thead>\n",
       "    <tr style=\"text-align: right;\">\n",
       "      <th></th>\n",
       "      <th>Timestamp</th>\n",
       "      <th>Value</th>\n",
       "      <th>Classification</th>\n",
       "      <th>Date</th>\n",
       "    </tr>\n",
       "  </thead>\n",
       "  <tbody>\n",
       "    <tr>\n",
       "      <th>0</th>\n",
       "      <td>1517463000</td>\n",
       "      <td>30</td>\n",
       "      <td>Fear</td>\n",
       "      <td>2018-02-01</td>\n",
       "    </tr>\n",
       "    <tr>\n",
       "      <th>1</th>\n",
       "      <td>1517549400</td>\n",
       "      <td>15</td>\n",
       "      <td>Extreme Fear</td>\n",
       "      <td>2018-02-02</td>\n",
       "    </tr>\n",
       "    <tr>\n",
       "      <th>2</th>\n",
       "      <td>1517635800</td>\n",
       "      <td>40</td>\n",
       "      <td>Fear</td>\n",
       "      <td>2018-02-03</td>\n",
       "    </tr>\n",
       "    <tr>\n",
       "      <th>3</th>\n",
       "      <td>1517722200</td>\n",
       "      <td>24</td>\n",
       "      <td>Extreme Fear</td>\n",
       "      <td>2018-02-04</td>\n",
       "    </tr>\n",
       "    <tr>\n",
       "      <th>4</th>\n",
       "      <td>1517808600</td>\n",
       "      <td>11</td>\n",
       "      <td>Extreme Fear</td>\n",
       "      <td>2018-02-05</td>\n",
       "    </tr>\n",
       "  </tbody>\n",
       "</table>\n",
       "</div>"
      ],
      "text/plain": [
       "    Timestamp  Value Classification        Date\n",
       "0  1517463000     30           Fear  2018-02-01\n",
       "1  1517549400     15   Extreme Fear  2018-02-02\n",
       "2  1517635800     40           Fear  2018-02-03\n",
       "3  1517722200     24   Extreme Fear  2018-02-04\n",
       "4  1517808600     11   Extreme Fear  2018-02-05"
      ]
     },
     "execution_count": 87,
     "metadata": {},
     "output_type": "execute_result"
    }
   ],
   "source": [
    "sentiment.head()"
   ]
  },
  {
   "cell_type": "code",
   "execution_count": 89,
   "id": "82aba355-5610-4ca7-9e2e-6fb9134bae00",
   "metadata": {},
   "outputs": [],
   "source": [
    "# Sum PnL per day\n",
    "daily_pnl = trades.groupby('Date')['Closed PnL'].sum().reset_index()\n",
    "daily_pnl.columns = ['Date', 'Total Closed PnL']"
   ]
  },
  {
   "cell_type": "code",
   "execution_count": 91,
   "id": "f6488113-a37c-4f86-b3de-969c37b3de11",
   "metadata": {},
   "outputs": [
    {
     "data": {
      "text/html": [
       "<div>\n",
       "<style scoped>\n",
       "    .dataframe tbody tr th:only-of-type {\n",
       "        vertical-align: middle;\n",
       "    }\n",
       "\n",
       "    .dataframe tbody tr th {\n",
       "        vertical-align: top;\n",
       "    }\n",
       "\n",
       "    .dataframe thead th {\n",
       "        text-align: right;\n",
       "    }\n",
       "</style>\n",
       "<table border=\"1\" class=\"dataframe\">\n",
       "  <thead>\n",
       "    <tr style=\"text-align: right;\">\n",
       "      <th></th>\n",
       "      <th>Date</th>\n",
       "      <th>Total Closed PnL</th>\n",
       "    </tr>\n",
       "  </thead>\n",
       "  <tbody>\n",
       "    <tr>\n",
       "      <th>0</th>\n",
       "      <td>2023-05-01</td>\n",
       "      <td>0.000000</td>\n",
       "    </tr>\n",
       "    <tr>\n",
       "      <th>1</th>\n",
       "      <td>2023-12-05</td>\n",
       "      <td>0.000000</td>\n",
       "    </tr>\n",
       "    <tr>\n",
       "      <th>2</th>\n",
       "      <td>2023-12-14</td>\n",
       "      <td>-205.434737</td>\n",
       "    </tr>\n",
       "    <tr>\n",
       "      <th>3</th>\n",
       "      <td>2023-12-15</td>\n",
       "      <td>-24.632034</td>\n",
       "    </tr>\n",
       "    <tr>\n",
       "      <th>4</th>\n",
       "      <td>2023-12-16</td>\n",
       "      <td>0.000000</td>\n",
       "    </tr>\n",
       "    <tr>\n",
       "      <th>...</th>\n",
       "      <td>...</td>\n",
       "      <td>...</td>\n",
       "    </tr>\n",
       "    <tr>\n",
       "      <th>475</th>\n",
       "      <td>2025-04-27</td>\n",
       "      <td>2702.067468</td>\n",
       "    </tr>\n",
       "    <tr>\n",
       "      <th>476</th>\n",
       "      <td>2025-04-28</td>\n",
       "      <td>36906.813759</td>\n",
       "    </tr>\n",
       "    <tr>\n",
       "      <th>477</th>\n",
       "      <td>2025-04-29</td>\n",
       "      <td>125749.613427</td>\n",
       "    </tr>\n",
       "    <tr>\n",
       "      <th>478</th>\n",
       "      <td>2025-04-30</td>\n",
       "      <td>14003.797269</td>\n",
       "    </tr>\n",
       "    <tr>\n",
       "      <th>479</th>\n",
       "      <td>2025-05-01</td>\n",
       "      <td>54536.829297</td>\n",
       "    </tr>\n",
       "  </tbody>\n",
       "</table>\n",
       "<p>480 rows × 2 columns</p>\n",
       "</div>"
      ],
      "text/plain": [
       "           Date  Total Closed PnL\n",
       "0    2023-05-01          0.000000\n",
       "1    2023-12-05          0.000000\n",
       "2    2023-12-14       -205.434737\n",
       "3    2023-12-15        -24.632034\n",
       "4    2023-12-16          0.000000\n",
       "..          ...               ...\n",
       "475  2025-04-27       2702.067468\n",
       "476  2025-04-28      36906.813759\n",
       "477  2025-04-29     125749.613427\n",
       "478  2025-04-30      14003.797269\n",
       "479  2025-05-01      54536.829297\n",
       "\n",
       "[480 rows x 2 columns]"
      ]
     },
     "execution_count": 91,
     "metadata": {},
     "output_type": "execute_result"
    }
   ],
   "source": [
    "daily_pnl"
   ]
  },
  {
   "cell_type": "code",
   "execution_count": 93,
   "id": "07a4b239-4792-4fcd-9a09-11e58eb23ca5",
   "metadata": {},
   "outputs": [],
   "source": [
    "# Merge on the date\n",
    "merged = pd.merge(daily_pnl, sentiment[['Date', 'Value', 'Classification']], on='Date', how='inner')"
   ]
  },
  {
   "cell_type": "code",
   "execution_count": 95,
   "id": "8ef34cf0-1f0f-4ebc-96ce-34ac148b0912",
   "metadata": {},
   "outputs": [
    {
     "data": {
      "text/html": [
       "<div>\n",
       "<style scoped>\n",
       "    .dataframe tbody tr th:only-of-type {\n",
       "        vertical-align: middle;\n",
       "    }\n",
       "\n",
       "    .dataframe tbody tr th {\n",
       "        vertical-align: top;\n",
       "    }\n",
       "\n",
       "    .dataframe thead th {\n",
       "        text-align: right;\n",
       "    }\n",
       "</style>\n",
       "<table border=\"1\" class=\"dataframe\">\n",
       "  <thead>\n",
       "    <tr style=\"text-align: right;\">\n",
       "      <th></th>\n",
       "      <th>Date</th>\n",
       "      <th>Total Closed PnL</th>\n",
       "      <th>Value</th>\n",
       "      <th>Classification</th>\n",
       "    </tr>\n",
       "  </thead>\n",
       "  <tbody>\n",
       "    <tr>\n",
       "      <th>0</th>\n",
       "      <td>2023-05-01</td>\n",
       "      <td>0.000000</td>\n",
       "      <td>63</td>\n",
       "      <td>Greed</td>\n",
       "    </tr>\n",
       "    <tr>\n",
       "      <th>1</th>\n",
       "      <td>2023-12-05</td>\n",
       "      <td>0.000000</td>\n",
       "      <td>75</td>\n",
       "      <td>Extreme Greed</td>\n",
       "    </tr>\n",
       "    <tr>\n",
       "      <th>2</th>\n",
       "      <td>2023-12-14</td>\n",
       "      <td>-205.434737</td>\n",
       "      <td>72</td>\n",
       "      <td>Greed</td>\n",
       "    </tr>\n",
       "    <tr>\n",
       "      <th>3</th>\n",
       "      <td>2023-12-15</td>\n",
       "      <td>-24.632034</td>\n",
       "      <td>70</td>\n",
       "      <td>Greed</td>\n",
       "    </tr>\n",
       "    <tr>\n",
       "      <th>4</th>\n",
       "      <td>2023-12-16</td>\n",
       "      <td>0.000000</td>\n",
       "      <td>67</td>\n",
       "      <td>Greed</td>\n",
       "    </tr>\n",
       "  </tbody>\n",
       "</table>\n",
       "</div>"
      ],
      "text/plain": [
       "         Date  Total Closed PnL  Value Classification\n",
       "0  2023-05-01          0.000000     63          Greed\n",
       "1  2023-12-05          0.000000     75  Extreme Greed\n",
       "2  2023-12-14       -205.434737     72          Greed\n",
       "3  2023-12-15        -24.632034     70          Greed\n",
       "4  2023-12-16          0.000000     67          Greed"
      ]
     },
     "execution_count": 95,
     "metadata": {},
     "output_type": "execute_result"
    }
   ],
   "source": [
    "merged.head()"
   ]
  },
  {
   "cell_type": "code",
   "execution_count": 97,
   "id": "7e2ffb03-6772-4a96-acd7-d600e6325624",
   "metadata": {},
   "outputs": [
    {
     "data": {
      "text/html": [
       "<div>\n",
       "<style scoped>\n",
       "    .dataframe tbody tr th:only-of-type {\n",
       "        vertical-align: middle;\n",
       "    }\n",
       "\n",
       "    .dataframe tbody tr th {\n",
       "        vertical-align: top;\n",
       "    }\n",
       "\n",
       "    .dataframe thead th {\n",
       "        text-align: right;\n",
       "    }\n",
       "</style>\n",
       "<table border=\"1\" class=\"dataframe\">\n",
       "  <thead>\n",
       "    <tr style=\"text-align: right;\">\n",
       "      <th></th>\n",
       "      <th>Date</th>\n",
       "      <th>Total Closed PnL</th>\n",
       "      <th>Value</th>\n",
       "      <th>Classification</th>\n",
       "    </tr>\n",
       "  </thead>\n",
       "  <tbody>\n",
       "    <tr>\n",
       "      <th>474</th>\n",
       "      <td>2025-04-27</td>\n",
       "      <td>2702.067468</td>\n",
       "      <td>61</td>\n",
       "      <td>Greed</td>\n",
       "    </tr>\n",
       "    <tr>\n",
       "      <th>475</th>\n",
       "      <td>2025-04-28</td>\n",
       "      <td>36906.813759</td>\n",
       "      <td>54</td>\n",
       "      <td>Neutral</td>\n",
       "    </tr>\n",
       "    <tr>\n",
       "      <th>476</th>\n",
       "      <td>2025-04-29</td>\n",
       "      <td>125749.613427</td>\n",
       "      <td>60</td>\n",
       "      <td>Greed</td>\n",
       "    </tr>\n",
       "    <tr>\n",
       "      <th>477</th>\n",
       "      <td>2025-04-30</td>\n",
       "      <td>14003.797269</td>\n",
       "      <td>56</td>\n",
       "      <td>Greed</td>\n",
       "    </tr>\n",
       "    <tr>\n",
       "      <th>478</th>\n",
       "      <td>2025-05-01</td>\n",
       "      <td>54536.829297</td>\n",
       "      <td>53</td>\n",
       "      <td>Neutral</td>\n",
       "    </tr>\n",
       "  </tbody>\n",
       "</table>\n",
       "</div>"
      ],
      "text/plain": [
       "           Date  Total Closed PnL  Value Classification\n",
       "474  2025-04-27       2702.067468     61          Greed\n",
       "475  2025-04-28      36906.813759     54        Neutral\n",
       "476  2025-04-29     125749.613427     60          Greed\n",
       "477  2025-04-30      14003.797269     56          Greed\n",
       "478  2025-05-01      54536.829297     53        Neutral"
      ]
     },
     "execution_count": 97,
     "metadata": {},
     "output_type": "execute_result"
    }
   ],
   "source": [
    "merged.tail()"
   ]
  },
  {
   "cell_type": "code",
   "execution_count": 99,
   "id": "aa4e2d9b-62a0-40f8-8908-37eadd4c263b",
   "metadata": {},
   "outputs": [
    {
     "data": {
      "text/html": [
       "<div>\n",
       "<style scoped>\n",
       "    .dataframe tbody tr th:only-of-type {\n",
       "        vertical-align: middle;\n",
       "    }\n",
       "\n",
       "    .dataframe tbody tr th {\n",
       "        vertical-align: top;\n",
       "    }\n",
       "\n",
       "    .dataframe thead th {\n",
       "        text-align: right;\n",
       "    }\n",
       "</style>\n",
       "<table border=\"1\" class=\"dataframe\">\n",
       "  <thead>\n",
       "    <tr style=\"text-align: right;\">\n",
       "      <th></th>\n",
       "      <th>Date</th>\n",
       "      <th>Total Closed PnL</th>\n",
       "      <th>Value</th>\n",
       "      <th>Classification</th>\n",
       "    </tr>\n",
       "  </thead>\n",
       "  <tbody>\n",
       "    <tr>\n",
       "      <th>280</th>\n",
       "      <td>2024-10-13</td>\n",
       "      <td>0.000000</td>\n",
       "      <td>50</td>\n",
       "      <td>Neutral</td>\n",
       "    </tr>\n",
       "    <tr>\n",
       "      <th>229</th>\n",
       "      <td>2024-08-14</td>\n",
       "      <td>2168.901513</td>\n",
       "      <td>30</td>\n",
       "      <td>Fear</td>\n",
       "    </tr>\n",
       "    <tr>\n",
       "      <th>394</th>\n",
       "      <td>2025-02-06</td>\n",
       "      <td>33803.799733</td>\n",
       "      <td>49</td>\n",
       "      <td>Neutral</td>\n",
       "    </tr>\n",
       "    <tr>\n",
       "      <th>201</th>\n",
       "      <td>2024-07-17</td>\n",
       "      <td>1859.269477</td>\n",
       "      <td>69</td>\n",
       "      <td>Greed</td>\n",
       "    </tr>\n",
       "  </tbody>\n",
       "</table>\n",
       "</div>"
      ],
      "text/plain": [
       "           Date  Total Closed PnL  Value Classification\n",
       "280  2024-10-13          0.000000     50        Neutral\n",
       "229  2024-08-14       2168.901513     30           Fear\n",
       "394  2025-02-06      33803.799733     49        Neutral\n",
       "201  2024-07-17       1859.269477     69          Greed"
      ]
     },
     "execution_count": 99,
     "metadata": {},
     "output_type": "execute_result"
    }
   ],
   "source": [
    "merged.sample(4)"
   ]
  },
  {
   "cell_type": "markdown",
   "id": "60afcabf-ebb6-4a30-b7e2-ee61238984e8",
   "metadata": {},
   "source": [
    "## Hidden Patterns"
   ]
  },
  {
   "cell_type": "code",
   "execution_count": 101,
   "id": "87f174f8-68c8-49a6-b55e-6939fa7e7c1d",
   "metadata": {},
   "outputs": [
    {
     "data": {
      "text/plain": [
       "Classification\n",
       "Extreme Fear     52793.589178\n",
       "Extreme Greed    23817.292199\n",
       "Fear             36891.818040\n",
       "Greed            11140.566181\n",
       "Neutral          19297.323516\n",
       "Name: Total Closed PnL, dtype: float64"
      ]
     },
     "execution_count": 101,
     "metadata": {},
     "output_type": "execute_result"
    }
   ],
   "source": [
    "# Performance by Sentiment Classification\n",
    "merged.groupby('Classification')['Total Closed PnL'].mean()"
   ]
  },
  {
   "cell_type": "code",
   "execution_count": 103,
   "id": "68857a7e-60c7-4bd8-a060-058337477a88",
   "metadata": {},
   "outputs": [
    {
     "data": {
      "text/plain": [
       "Classification\n",
       "Extreme Fear     101262.394065\n",
       "Extreme Greed     72827.301581\n",
       "Fear              96611.848503\n",
       "Greed             62427.957949\n",
       "Neutral           37995.209071\n",
       "Name: Total Closed PnL, dtype: float64"
      ]
     },
     "execution_count": 103,
     "metadata": {},
     "output_type": "execute_result"
    }
   ],
   "source": [
    "# Volatility by Sentiment\n",
    "merged.groupby('Classification')['Total Closed PnL'].std()"
   ]
  },
  {
   "cell_type": "code",
   "execution_count": 105,
   "id": "59784507-5cf2-4a48-8cef-f77840f4bf94",
   "metadata": {},
   "outputs": [
    {
     "data": {
      "text/html": [
       "<div>\n",
       "<style scoped>\n",
       "    .dataframe tbody tr th:only-of-type {\n",
       "        vertical-align: middle;\n",
       "    }\n",
       "\n",
       "    .dataframe tbody tr th {\n",
       "        vertical-align: top;\n",
       "    }\n",
       "\n",
       "    .dataframe thead th {\n",
       "        text-align: right;\n",
       "    }\n",
       "</style>\n",
       "<table border=\"1\" class=\"dataframe\">\n",
       "  <thead>\n",
       "    <tr style=\"text-align: right;\">\n",
       "      <th></th>\n",
       "      <th>Total Closed PnL</th>\n",
       "      <th>Value</th>\n",
       "    </tr>\n",
       "  </thead>\n",
       "  <tbody>\n",
       "    <tr>\n",
       "      <th>Total Closed PnL</th>\n",
       "      <td>1.000000</td>\n",
       "      <td>-0.082642</td>\n",
       "    </tr>\n",
       "    <tr>\n",
       "      <th>Value</th>\n",
       "      <td>-0.082642</td>\n",
       "      <td>1.000000</td>\n",
       "    </tr>\n",
       "  </tbody>\n",
       "</table>\n",
       "</div>"
      ],
      "text/plain": [
       "                  Total Closed PnL     Value\n",
       "Total Closed PnL          1.000000 -0.082642\n",
       "Value                    -0.082642  1.000000"
      ]
     },
     "execution_count": 105,
     "metadata": {},
     "output_type": "execute_result"
    }
   ],
   "source": [
    "# Correlation Between Sentiment Score and PnL\n",
    "merged[['Total Closed PnL', 'Value']].corr()"
   ]
  },
  {
   "cell_type": "code",
   "execution_count": 107,
   "id": "6ffd3796-85ab-4635-91cb-253bd929238a",
   "metadata": {},
   "outputs": [
    {
     "data": {
      "text/html": [
       "<div>\n",
       "<style scoped>\n",
       "    .dataframe tbody tr th:only-of-type {\n",
       "        vertical-align: middle;\n",
       "    }\n",
       "\n",
       "    .dataframe tbody tr th {\n",
       "        vertical-align: top;\n",
       "    }\n",
       "\n",
       "    .dataframe thead th {\n",
       "        text-align: right;\n",
       "    }\n",
       "</style>\n",
       "<table border=\"1\" class=\"dataframe\">\n",
       "  <thead>\n",
       "    <tr style=\"text-align: right;\">\n",
       "      <th></th>\n",
       "      <th>Total Closed PnL</th>\n",
       "      <th>sentiment_lag1</th>\n",
       "    </tr>\n",
       "  </thead>\n",
       "  <tbody>\n",
       "    <tr>\n",
       "      <th>Total Closed PnL</th>\n",
       "      <td>1.000000</td>\n",
       "      <td>-0.107779</td>\n",
       "    </tr>\n",
       "    <tr>\n",
       "      <th>sentiment_lag1</th>\n",
       "      <td>-0.107779</td>\n",
       "      <td>1.000000</td>\n",
       "    </tr>\n",
       "  </tbody>\n",
       "</table>\n",
       "</div>"
      ],
      "text/plain": [
       "                  Total Closed PnL  sentiment_lag1\n",
       "Total Closed PnL          1.000000       -0.107779\n",
       "sentiment_lag1           -0.107779        1.000000"
      ]
     },
     "execution_count": 107,
     "metadata": {},
     "output_type": "execute_result"
    }
   ],
   "source": [
    "# Lagged Sentiment Effect\n",
    "merged['sentiment_lag1'] = merged['Value'].shift(1)\n",
    "merged[['Total Closed PnL', 'sentiment_lag1']].corr()"
   ]
  },
  {
   "cell_type": "code",
   "execution_count": 109,
   "id": "071c5d61-b0bf-4a0a-b5c1-8fafec57664a",
   "metadata": {},
   "outputs": [
    {
     "data": {
      "text/html": [
       "<div>\n",
       "<style scoped>\n",
       "    .dataframe tbody tr th:only-of-type {\n",
       "        vertical-align: middle;\n",
       "    }\n",
       "\n",
       "    .dataframe tbody tr th {\n",
       "        vertical-align: top;\n",
       "    }\n",
       "\n",
       "    .dataframe thead th {\n",
       "        text-align: right;\n",
       "    }\n",
       "</style>\n",
       "<table border=\"1\" class=\"dataframe\">\n",
       "  <thead>\n",
       "    <tr style=\"text-align: right;\">\n",
       "      <th></th>\n",
       "      <th>Total Closed PnL</th>\n",
       "      <th>next_day_pnl</th>\n",
       "    </tr>\n",
       "  </thead>\n",
       "  <tbody>\n",
       "    <tr>\n",
       "      <th>Total Closed PnL</th>\n",
       "      <td>1.000000</td>\n",
       "      <td>0.319218</td>\n",
       "    </tr>\n",
       "    <tr>\n",
       "      <th>next_day_pnl</th>\n",
       "      <td>0.319218</td>\n",
       "      <td>1.000000</td>\n",
       "    </tr>\n",
       "  </tbody>\n",
       "</table>\n",
       "</div>"
      ],
      "text/plain": [
       "                  Total Closed PnL  next_day_pnl\n",
       "Total Closed PnL          1.000000      0.319218\n",
       "next_day_pnl              0.319218      1.000000"
      ]
     },
     "execution_count": 109,
     "metadata": {},
     "output_type": "execute_result"
    }
   ],
   "source": [
    "# Profit Reversal Trend\n",
    "merged['next_day_pnl'] = merged['Total Closed PnL'].shift(-1)\n",
    "merged[['Total Closed PnL', 'next_day_pnl']].corr()"
   ]
  },
  {
   "cell_type": "code",
   "execution_count": 111,
   "id": "674e11da-583f-4bd9-9622-a728fe086128",
   "metadata": {},
   "outputs": [
    {
     "data": {
      "text/plain": [
       "direction\n",
       "Falling    16205.995810\n",
       "Rising     28185.875408\n",
       "Name: Total Closed PnL, dtype: float64"
      ]
     },
     "execution_count": 111,
     "metadata": {},
     "output_type": "execute_result"
    }
   ],
   "source": [
    "# Momentum-Based Sentiment Trend\n",
    "merged['sentiment_change'] = merged['Value'].diff()\n",
    "merged['direction'] = merged['sentiment_change'].apply(lambda x: 'Rising' if x > 0 else 'Falling')\n",
    "merged.groupby('direction')['Total Closed PnL'].mean()"
   ]
  },
  {
   "cell_type": "code",
   "execution_count": 113,
   "id": "fb5da427-4e31-4bc3-9ecf-b2f0119bd087",
   "metadata": {},
   "outputs": [
    {
     "data": {
      "text/plain": [
       "weekday\n",
       "Friday       22224.403310\n",
       "Monday       24422.737353\n",
       "Saturday     19886.005176\n",
       "Sunday       15883.353033\n",
       "Thursday     21025.907531\n",
       "Tuesday      25092.547899\n",
       "Wednesday    20973.864429\n",
       "Name: Total Closed PnL, dtype: float64"
      ]
     },
     "execution_count": 113,
     "metadata": {},
     "output_type": "execute_result"
    }
   ],
   "source": [
    "# Weekly Pattern\n",
    "merged['weekday'] = pd.to_datetime(merged['Date']).dt.day_name()\n",
    "merged.groupby('weekday')['Total Closed PnL'].mean()"
   ]
  },
  {
   "cell_type": "code",
   "execution_count": 115,
   "id": "783c9558-d8ab-4d56-9858-3e3c398c4cb8",
   "metadata": {},
   "outputs": [
    {
     "data": {
      "text/plain": [
       "sentiment_bin\n",
       "Very Low     76048.889562\n",
       "Low          27377.102921\n",
       "Medium       28579.457758\n",
       "High         11627.395798\n",
       "Very High    42635.853290\n",
       "Name: Total Closed PnL, dtype: float64"
      ]
     },
     "execution_count": 115,
     "metadata": {},
     "output_type": "execute_result"
    }
   ],
   "source": [
    "# Sentiment Score Buckets\n",
    "bins = [0, 20, 40, 60, 80, 100]\n",
    "labels = ['Very Low', 'Low', 'Medium', 'High', 'Very High']\n",
    "merged['sentiment_bin'] = pd.cut(merged['Value'], bins=bins, labels=labels)\n",
    "\n",
    "merged.groupby('sentiment_bin')['Total Closed PnL'].mean()"
   ]
  },
  {
   "cell_type": "code",
   "execution_count": 117,
   "id": "f637f2ad-5250-42e3-acdb-50709124baf8",
   "metadata": {},
   "outputs": [
    {
     "data": {
      "text/html": [
       "<div>\n",
       "<style scoped>\n",
       "    .dataframe tbody tr th:only-of-type {\n",
       "        vertical-align: middle;\n",
       "    }\n",
       "\n",
       "    .dataframe tbody tr th {\n",
       "        vertical-align: top;\n",
       "    }\n",
       "\n",
       "    .dataframe thead th {\n",
       "        text-align: right;\n",
       "    }\n",
       "</style>\n",
       "<table border=\"1\" class=\"dataframe\">\n",
       "  <thead>\n",
       "    <tr style=\"text-align: right;\">\n",
       "      <th></th>\n",
       "      <th>sentiment_3day_avg</th>\n",
       "      <th>Total Closed PnL</th>\n",
       "    </tr>\n",
       "  </thead>\n",
       "  <tbody>\n",
       "    <tr>\n",
       "      <th>sentiment_3day_avg</th>\n",
       "      <td>1.000000</td>\n",
       "      <td>-0.091203</td>\n",
       "    </tr>\n",
       "    <tr>\n",
       "      <th>Total Closed PnL</th>\n",
       "      <td>-0.091203</td>\n",
       "      <td>1.000000</td>\n",
       "    </tr>\n",
       "  </tbody>\n",
       "</table>\n",
       "</div>"
      ],
      "text/plain": [
       "                    sentiment_3day_avg  Total Closed PnL\n",
       "sentiment_3day_avg            1.000000         -0.091203\n",
       "Total Closed PnL             -0.091203          1.000000"
      ]
     },
     "execution_count": 117,
     "metadata": {},
     "output_type": "execute_result"
    }
   ],
   "source": [
    "# 3-Day Rolling Averages (Short-term trend impact)\n",
    "merged['sentiment_3day_avg'] = merged['Value'].rolling(3).mean()\n",
    "merged[['sentiment_3day_avg', 'Total Closed PnL']].corr()"
   ]
  },
  {
   "cell_type": "code",
   "execution_count": 119,
   "id": "2a87b11d-c75e-4d1a-8de8-febbf5c11567",
   "metadata": {},
   "outputs": [
    {
     "data": {
      "text/plain": [
       "Classification\n",
       "Extreme Fear     101262.394065\n",
       "Extreme Greed     72827.301581\n",
       "Fear              96611.848503\n",
       "Greed             62427.957949\n",
       "Neutral           37995.209071\n",
       "Name: Total Closed PnL, dtype: float64"
      ]
     },
     "execution_count": 119,
     "metadata": {},
     "output_type": "execute_result"
    }
   ],
   "source": [
    "# Volatility Pattern\n",
    "merged.groupby('Classification')['Total Closed PnL'].std()"
   ]
  },
  {
   "cell_type": "markdown",
   "id": "8e12996b-be96-4e41-946b-03ff6d2bee71",
   "metadata": {},
   "source": [
    "## Visual Insights"
   ]
  },
  {
   "cell_type": "code",
   "execution_count": 121,
   "id": "460e1e53-968f-4958-bdfd-f6688fad322c",
   "metadata": {},
   "outputs": [
    {
     "data": {
      "image/png": "[encoded data removed]",
      "text/plain": [
       "<Figure size 640x480 with 2 Axes>"
      ]
     },
     "metadata": {},
     "output_type": "display_data"
    }
   ],
   "source": [
    "# Heatmap: PnL by Weekday and Sentiment\n",
    "merged['weekday'] = pd.to_datetime(merged['Date']).dt.day_name()\n",
    "heat_data = merged.pivot_table(index='weekday', columns='Classification', values='Total Closed PnL', aggfunc='mean')\n",
    "\n",
    "sns.heatmap(heat_data, annot=True, cmap='YlGnBu', fmt=\".1f\")\n",
    "plt.title('Average PnL by Weekday and Sentiment')\n",
    "plt.tight_layout()\n",
    "plt.show()"
   ]
  },
  {
   "cell_type": "code",
   "execution_count": 123,
   "id": "0034a18a-f519-4f2b-a2ff-7288c34b34b3",
   "metadata": {},
   "outputs": [
    {
     "data": {
      "image/png": "[encoded data removed]",
      "text/plain": [
       "<Figure size 640x480 with 1 Axes>"
      ]
     },
     "metadata": {},
     "output_type": "display_data"
    }
   ],
   "source": [
    "# Lagged Sentiment Correlation Chart\n",
    "merged['sentiment_lag1'] = merged['Value'].shift(1)\n",
    "sns.regplot(data=merged, x='sentiment_lag1', y='Total Closed PnL')\n",
    "plt.title(\"Lagged Sentiment vs Today's PnL\")\n",
    "plt.tight_layout()\n",
    "plt.show()"
   ]
  },
  {
   "cell_type": "code",
   "execution_count": 125,
   "id": "665b7be1-53ae-4fb6-a3e6-f4f11c2a4a15",
   "metadata": {},
   "outputs": [
    {
     "data": {
      "image/png": "[encoded data removed]",
      "text/plain": [
       "<Figure size 640x480 with 1 Axes>"
      ]
     },
     "metadata": {},
     "output_type": "display_data"
    }
   ],
   "source": [
    "# 3-Day Sentiment Change vs PnL\n",
    "merged['sentiment_3day_change'] = merged['Value'].diff(3)\n",
    "sns.scatterplot(data=merged, x='sentiment_3day_change', y='Total Closed PnL', hue='Classification')\n",
    "plt.title('3-Day Sentiment Shift vs PnL')\n",
    "plt.tight_layout()\n",
    "plt.show()"
   ]
  },
  {
   "cell_type": "code",
   "execution_count": 127,
   "id": "783d626f-1605-4c77-bd68-d111b925f889",
   "metadata": {},
   "outputs": [
    {
     "data": {
      "image/png": "[encoded data removed]",
      "text/plain": [
       "<Figure size 640x480 with 1 Axes>"
      ]
     },
     "metadata": {},
     "output_type": "display_data"
    }
   ],
   "source": [
    "# Cumulative PnL vs Sentiment Zones \n",
    "merged = merged.sort_values('Date')\n",
    "merged['cumulative_pnl'] = merged['Total Closed PnL'].cumsum()\n",
    "sns.lineplot(data=merged, x='Date', y='cumulative_pnl', hue='Classification')\n",
    "plt.title('Cumulative Trader PnL by Sentiment Phase')\n",
    "plt.tight_layout()\n",
    "plt.show()"
   ]
  },
  {
   "cell_type": "code",
   "execution_count": 129,
   "id": "1df06fb6-421d-46fc-b827-0522885f1164",
   "metadata": {},
   "outputs": [
    {
     "data": {
      "image/png": "[encoded data removed]",
      "text/plain": [
       "<Figure size 640x480 with 1 Axes>"
      ]
     },
     "metadata": {},
     "output_type": "display_data"
    }
   ],
   "source": [
    "# Count Plot: Frequency of Each Sentiment Class\n",
    "sns.countplot(data=merged, x='Classification', order=['Extreme Fear', 'Fear', 'Neutral', 'Greed', 'Extreme Greed'])\n",
    "plt.title('Number of Days in Each Sentiment Category')\n",
    "plt.xticks(rotation=45)\n",
    "plt.tight_layout()\n",
    "plt.show()"
   ]
  },
  {
   "cell_type": "code",
   "execution_count": 131,
   "id": "05d2ccfe-0f9a-4113-899d-7b0bdf298786",
   "metadata": {},
   "outputs": [
    {
     "data": {
      "image/png": "[encoded data removed]",
      "text/plain": [
       "<Figure size 640x480 with 1 Axes>"
      ]
     },
     "metadata": {},
     "output_type": "display_data"
    }
   ],
   "source": [
    "# Histogram of Sentiment Values\n",
    "sns.histplot(data=merged, x='Value', bins=20, kde=True)\n",
    "plt.title('Distribution of Sentiment Values')\n",
    "plt.tight_layout()\n",
    "plt.show()"
   ]
  },
  {
   "cell_type": "code",
   "execution_count": 133,
   "id": "f6403ac7-6be8-42f7-96d2-7f92f00dfac8",
   "metadata": {},
   "outputs": [
    {
     "data": {
      "image/png": "[encoded data removed]",
      "text/plain": [
       "<Figure size 640x480 with 1 Axes>"
      ]
     },
     "metadata": {},
     "output_type": "display_data"
    }
   ],
   "source": [
    "# Cumulative PnL Over Time\n",
    "merged_sorted = merged.sort_values('Date')\n",
    "merged_sorted['cumulative_pnl'] = merged_sorted['Total Closed PnL'].cumsum()\n",
    "\n",
    "sns.lineplot(data=merged_sorted, x='Date', y='cumulative_pnl')\n",
    "plt.title('Cumulative Trader PnL Over Time')\n",
    "plt.tight_layout()\n",
    "plt.show()"
   ]
  },
  {
   "cell_type": "code",
   "execution_count": 135,
   "id": "12b05a4e-e5de-40a7-a11b-a2722eb5997c",
   "metadata": {},
   "outputs": [
    {
     "data": {
      "image/png": "[encoded data removed]",
      "text/plain": [
       "<Figure size 640x480 with 1 Axes>"
      ]
     },
     "metadata": {},
     "output_type": "display_data"
    }
   ],
   "source": [
    "# Boxplot of PnL by Sentiment Buckets\n",
    "merged['sentiment_bin'] = pd.cut(merged['Value'], bins=[0, 20, 40, 60, 80, 100],\n",
    "                                  labels=['0–20', '21–40', '41–60', '61–80', '81–100'])\n",
    "sns.boxplot(data=merged, x='sentiment_bin', y='Total Closed PnL')\n",
    "plt.title('PnL Distribution by Sentiment Score Range')\n",
    "plt.tight_layout()\n",
    "plt.show()"
   ]
  },
  {
   "cell_type": "code",
   "execution_count": 137,
   "id": "3df793b2-fe56-423b-b72e-c4f3eb97ebe6",
   "metadata": {},
   "outputs": [
    {
     "data": {
      "image/png": "[encoded data removed]",
      "text/plain": [
       "<Figure size 640x480 with 1 Axes>"
      ]
     },
     "metadata": {},
     "output_type": "display_data"
    }
   ],
   "source": [
    "# Share of Total PnL by Sentiment Category\n",
    "pnl_share = merged.groupby('Classification')['Total Closed PnL'].sum()\n",
    "pnl_share.plot(kind='pie', autopct='%1.1f%%', startangle=90)\n",
    "plt.title('Share of Total PnL by Sentiment')\n",
    "plt.ylabel('')\n",
    "plt.tight_layout()\n",
    "plt.show()"
   ]
  },
  {
   "cell_type": "code",
   "execution_count": 139,
   "id": "298a5a81-d1de-4126-86bc-732fa7ed0d5c",
   "metadata": {},
   "outputs": [
    {
     "data": {
      "image/png": "[encoded data removed]",
      "text/plain": [
       "<Figure size 640x480 with 1 Axes>"
      ]
     },
     "metadata": {},
     "output_type": "display_data"
    }
   ],
   "source": [
    "# Rolling Average of PnL (7-Day Trend)\n",
    "merged_sorted = merged.sort_values('Date')\n",
    "merged_sorted['pnl_rolling_7d'] = merged_sorted['Total Closed PnL'].rolling(window=7).mean()\n",
    "\n",
    "sns.lineplot(data=merged_sorted, x='Date', y='pnl_rolling_7d')\n",
    "plt.title('7-Day Rolling Average of Trader PnL')\n",
    "plt.xticks(rotation=45)\n",
    "plt.tight_layout()\n",
    "plt.show()"
   ]
  },
  {
   "cell_type": "code",
   "execution_count": 141,
   "id": "e4ecce74-70e9-4a0a-9c82-1b0f09844ae6",
   "metadata": {},
   "outputs": [
    {
     "data": {
      "image/png": "[encoded data removed]",
      "text/plain": [
       "<Figure size 640x480 with 1 Axes>"
      ]
     },
     "metadata": {},
     "output_type": "display_data"
    }
   ],
   "source": [
    "# Histogram of Daily PnL (Profit vs Loss Frequency)\n",
    "sns.histplot(data=merged, x='Total Closed PnL', bins=30, kde=True)\n",
    "plt.axvline(0, color='red', linestyle='--')\n",
    "plt.title('Distribution of Daily Trader PnL')\n",
    "plt.tight_layout()\n",
    "plt.show()"
   ]
  },
  {
   "cell_type": "markdown",
   "id": "2a8c3453-d92f-4ce7-b092-bc2be02dcb7d",
   "metadata": {},
   "source": [
    "## Insights"
   ]
  },
  {
   "cell_type": "markdown",
   "id": "33c9e8da-7688-414a-a8be-a0c71a843646",
   "metadata": {},
   "source": [
    "#### 1. Traders Perform Better During Market Fear\n",
    "Traders earned significantly higher average PnL during “Extreme Fear” and “Fear” days.\n",
    "\n",
    "This suggests opportunistic buying behavior - traders capitalize on lower asset prices during panic \n",
    "phases."
   ]
  },
  {
   "cell_type": "markdown",
   "id": "3c52324b-cc15-4cd2-a806-8b57c0c01ef8",
   "metadata": {},
   "source": [
    "#### 2. Losses Spike in “Extreme Greed” Periods\n",
    "“Extreme Greed” is associated with lower or even negative average PnL.\n",
    "\n",
    "Possibly caused by overconfidence or crowded trades, leading to poor timing and increased volatility."
   ]
  },
  {
   "cell_type": "markdown",
   "id": "f7092199-19ee-4900-92c9-8c6ac8a23dc9",
   "metadata": {},
   "source": [
    "#### 3. Sentiment Reversals Lead to Volatility\n",
    "When market sentiment shifts direction sharply (e.g., from Fear to Greed), \n",
    "traders tend to perform inconsistently.\n",
    "\n",
    "These are risky days and may require tighter risk management"
   ]
  },
  {
   "cell_type": "markdown",
   "id": "e13dd846-e908-4550-aefc-f69885222e3c",
   "metadata": {},
   "source": [
    "#### 4. Weekday Patterns Exist\n",
    "Weekends and Mondays often show lower profitability, possibly due to news uncertainty or lower liquidity.\n",
    "\n",
    "Mid-week (Tuesday–Thursday) tends to be more profitable for traders"
   ]
  },
  {
   "cell_type": "markdown",
   "id": "5dfbcb12-bbed-408a-91cf-ce85107183c7",
   "metadata": {},
   "source": [
    "#### 5. Sentiment Score Alone Doesn’t Predict Profit\n",
    "The correlation between raw sentiment score and PnL is weak or negative.\n",
    "\n",
    "This suggests that sentiment trend or change, not absolute value, matters more."
   ]
  },
  {
   "cell_type": "markdown",
   "id": "5fc37c9e-cbb8-4d82-a661-1ac5f20105f4",
   "metadata": {},
   "source": [
    "#### 6. Lagged Sentiment Is a Better Signal\n",
    "Yesterday’s sentiment has a stronger correlation with today’s PnL than same-day sentiment.\n",
    "\n",
    "Traders seem to react with a delay to market mood - useful for timing strategies"
   ]
  },
  {
   "cell_type": "markdown",
   "id": "72de96fc-a41c-4040-9d4d-0e53a8d251b3",
   "metadata": {},
   "source": [
    "#### 7. Greed Comes with Higher Risk\n",
    "The standard deviation of PnL (volatility) is highest during “Greed” and “Extreme Greed” days.\n",
    "\n",
    "Traders should reduce position size or use stop-losses during these periods."
   ]
  },
  {
   "cell_type": "markdown",
   "id": "fddc58c1-d061-4963-85c8-98a65c67a6e9",
   "metadata": {},
   "source": [
    "#### 8. Cumulative Profit Trends Align with Fear Phases\n",
    "Periods with a sustained fear trend often coincide with gradually increasing cumulative PnL.\n",
    "\n",
    "Suggests that slow and fearful markets offer better entry points than fast-rising greedy ones."
   ]
  }
 ],
 "metadata": {
  "kernelspec": {
   "display_name": "Python [conda env:base] *",
   "language": "python",
   "name": "conda-base-py"
  },
  "language_info": {
   "codemirror_mode": {
    "name": "ipython",
    "version": 3
   },
   "file_extension": ".py",
   "mimetype": "text/x-python",
   "name": "python",
   "nbconvert_exporter": "python",
   "pygments_lexer": "ipython3",
   "version": "3.12.7"
  }
 },
 "nbformat": 4,
 "nbformat_minor": 5
}
